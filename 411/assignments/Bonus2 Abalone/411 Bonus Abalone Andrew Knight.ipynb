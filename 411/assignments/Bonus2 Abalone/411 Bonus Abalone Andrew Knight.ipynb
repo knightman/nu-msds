{
 "cells": [
  {
   "cell_type": "markdown",
   "metadata": {},
   "source": [
    "## Abalone Bonus Assignment\n",
    "Author: Andrew Knight"
   ]
  },
  {
   "cell_type": "code",
   "execution_count": 35,
   "metadata": {},
   "outputs": [],
   "source": [
    "# Setup and Imports\n",
    "import pandas as pd\n",
    "import numpy as np  # arrays and math functions\n",
    "import matplotlib.pyplot as plt  # static plotting\n",
    "import seaborn as sea\n",
    "import statsmodels as sm\n",
    "import statsmodels.formula.api as smf  # R-like model specification\n",
    "import statsmodels.api as sm\n",
    "import statsmodels.tools\n",
    "import matplotlib.pyplot as plt \n",
    "from scipy import stats\n",
    "from sklearn import linear_model, metrics\n",
    "from statsmodels.genmod.families.family import Poisson, NegativeBinomial"
   ]
  },
  {
   "cell_type": "code",
   "execution_count": 4,
   "metadata": {},
   "outputs": [
    {
     "name": "stdout",
     "output_type": "stream",
     "text": [
      "--------------- TRAIN --------------\n",
      "(3310, 10)\n",
      "\n",
      "-------------- TEST ---------------\n",
      "(867, 10)\n"
     ]
    }
   ],
   "source": [
    "#Read in the auto ins dataset\n",
    "train = pd.read_sas('zip_abalone.sas7bdat')\n",
    "test = pd.read_sas('zip_abalone_test.sas7bdat')\n",
    "\n",
    "print('--------------- TRAIN --------------')\n",
    "print(train.shape)\n",
    "print('\\n-------------- TEST ---------------')\n",
    "print(test.shape)"
   ]
  },
  {
   "cell_type": "markdown",
   "metadata": {},
   "source": [
    "### Part 1 - EDA"
   ]
  },
  {
   "cell_type": "markdown",
   "metadata": {},
   "source": [
    "#### TRAIN DATA SET"
   ]
  },
  {
   "cell_type": "code",
   "execution_count": 10,
   "metadata": {},
   "outputs": [
    {
     "name": "stdout",
     "output_type": "stream",
     "text": [
      "<class 'pandas.core.frame.DataFrame'>\n",
      "RangeIndex: 3310 entries, 0 to 3309\n",
      "Data columns (total 10 columns):\n",
      "INDEX            3310 non-null float64\n",
      "TARGET_RINGS     3310 non-null float64\n",
      "Sex              3310 non-null object\n",
      "Length           3310 non-null float64\n",
      "Diameter         3310 non-null float64\n",
      "Height           3310 non-null float64\n",
      "WholeWeight      3310 non-null float64\n",
      "ShuckedWeight    3310 non-null float64\n",
      "VisceraWeight    3310 non-null float64\n",
      "ShellWeight      3310 non-null float64\n",
      "dtypes: float64(9), object(1)\n",
      "memory usage: 258.7+ KB\n",
      "None\n"
     ]
    },
    {
     "data": {
      "text/html": [
       "<div>\n",
       "<style scoped>\n",
       "    .dataframe tbody tr th:only-of-type {\n",
       "        vertical-align: middle;\n",
       "    }\n",
       "\n",
       "    .dataframe tbody tr th {\n",
       "        vertical-align: top;\n",
       "    }\n",
       "\n",
       "    .dataframe thead th {\n",
       "        text-align: right;\n",
       "    }\n",
       "</style>\n",
       "<table border=\"1\" class=\"dataframe\">\n",
       "  <thead>\n",
       "    <tr style=\"text-align: right;\">\n",
       "      <th></th>\n",
       "      <th>INDEX</th>\n",
       "      <th>TARGET_RINGS</th>\n",
       "      <th>Length</th>\n",
       "      <th>Diameter</th>\n",
       "      <th>Height</th>\n",
       "      <th>WholeWeight</th>\n",
       "      <th>ShuckedWeight</th>\n",
       "      <th>VisceraWeight</th>\n",
       "      <th>ShellWeight</th>\n",
       "    </tr>\n",
       "  </thead>\n",
       "  <tbody>\n",
       "    <tr>\n",
       "      <th>count</th>\n",
       "      <td>3310.000000</td>\n",
       "      <td>3310.000000</td>\n",
       "      <td>3310.000000</td>\n",
       "      <td>3310.000000</td>\n",
       "      <td>3310.000000</td>\n",
       "      <td>3310.000000</td>\n",
       "      <td>3310.000000</td>\n",
       "      <td>3310.000000</td>\n",
       "      <td>3310.000000</td>\n",
       "    </tr>\n",
       "    <tr>\n",
       "      <th>mean</th>\n",
       "      <td>2089.968882</td>\n",
       "      <td>9.109970</td>\n",
       "      <td>0.522761</td>\n",
       "      <td>0.407171</td>\n",
       "      <td>0.139014</td>\n",
       "      <td>0.825717</td>\n",
       "      <td>0.358066</td>\n",
       "      <td>0.179696</td>\n",
       "      <td>0.237974</td>\n",
       "    </tr>\n",
       "    <tr>\n",
       "      <th>std</th>\n",
       "      <td>1207.534917</td>\n",
       "      <td>4.530678</td>\n",
       "      <td>0.120648</td>\n",
       "      <td>0.099681</td>\n",
       "      <td>0.042363</td>\n",
       "      <td>0.492881</td>\n",
       "      <td>0.222895</td>\n",
       "      <td>0.110213</td>\n",
       "      <td>0.139573</td>\n",
       "    </tr>\n",
       "    <tr>\n",
       "      <th>min</th>\n",
       "      <td>2.000000</td>\n",
       "      <td>0.000000</td>\n",
       "      <td>0.075000</td>\n",
       "      <td>0.055000</td>\n",
       "      <td>0.000000</td>\n",
       "      <td>0.002000</td>\n",
       "      <td>0.001000</td>\n",
       "      <td>0.000500</td>\n",
       "      <td>0.001500</td>\n",
       "    </tr>\n",
       "    <tr>\n",
       "      <th>25%</th>\n",
       "      <td>1037.250000</td>\n",
       "      <td>8.000000</td>\n",
       "      <td>0.450000</td>\n",
       "      <td>0.345000</td>\n",
       "      <td>0.115000</td>\n",
       "      <td>0.436500</td>\n",
       "      <td>0.181500</td>\n",
       "      <td>0.091625</td>\n",
       "      <td>0.128250</td>\n",
       "    </tr>\n",
       "    <tr>\n",
       "      <th>50%</th>\n",
       "      <td>2104.000000</td>\n",
       "      <td>9.000000</td>\n",
       "      <td>0.540000</td>\n",
       "      <td>0.425000</td>\n",
       "      <td>0.140000</td>\n",
       "      <td>0.791250</td>\n",
       "      <td>0.334500</td>\n",
       "      <td>0.169000</td>\n",
       "      <td>0.230000</td>\n",
       "    </tr>\n",
       "    <tr>\n",
       "      <th>75%</th>\n",
       "      <td>3116.750000</td>\n",
       "      <td>11.000000</td>\n",
       "      <td>0.615000</td>\n",
       "      <td>0.480000</td>\n",
       "      <td>0.165000</td>\n",
       "      <td>1.150375</td>\n",
       "      <td>0.500250</td>\n",
       "      <td>0.251250</td>\n",
       "      <td>0.329750</td>\n",
       "    </tr>\n",
       "    <tr>\n",
       "      <th>max</th>\n",
       "      <td>4177.000000</td>\n",
       "      <td>29.000000</td>\n",
       "      <td>0.800000</td>\n",
       "      <td>0.630000</td>\n",
       "      <td>1.130000</td>\n",
       "      <td>2.825500</td>\n",
       "      <td>1.488000</td>\n",
       "      <td>0.760000</td>\n",
       "      <td>1.005000</td>\n",
       "    </tr>\n",
       "  </tbody>\n",
       "</table>\n",
       "</div>"
      ],
      "text/plain": [
       "             INDEX  TARGET_RINGS       Length     Diameter       Height  \\\n",
       "count  3310.000000   3310.000000  3310.000000  3310.000000  3310.000000   \n",
       "mean   2089.968882      9.109970     0.522761     0.407171     0.139014   \n",
       "std    1207.534917      4.530678     0.120648     0.099681     0.042363   \n",
       "min       2.000000      0.000000     0.075000     0.055000     0.000000   \n",
       "25%    1037.250000      8.000000     0.450000     0.345000     0.115000   \n",
       "50%    2104.000000      9.000000     0.540000     0.425000     0.140000   \n",
       "75%    3116.750000     11.000000     0.615000     0.480000     0.165000   \n",
       "max    4177.000000     29.000000     0.800000     0.630000     1.130000   \n",
       "\n",
       "       WholeWeight  ShuckedWeight  VisceraWeight  ShellWeight  \n",
       "count  3310.000000    3310.000000    3310.000000  3310.000000  \n",
       "mean      0.825717       0.358066       0.179696     0.237974  \n",
       "std       0.492881       0.222895       0.110213     0.139573  \n",
       "min       0.002000       0.001000       0.000500     0.001500  \n",
       "25%       0.436500       0.181500       0.091625     0.128250  \n",
       "50%       0.791250       0.334500       0.169000     0.230000  \n",
       "75%       1.150375       0.500250       0.251250     0.329750  \n",
       "max       2.825500       1.488000       0.760000     1.005000  "
      ]
     },
     "execution_count": 10,
     "metadata": {},
     "output_type": "execute_result"
    }
   ],
   "source": [
    "# Now we have the training and test sets, let's take a look at the data\n",
    "# ------------- TRAINING -----------------\n",
    "print(train.info())\n",
    "train.describe()"
   ]
  },
  {
   "cell_type": "markdown",
   "metadata": {},
   "source": [
    "In the TRAINING set we have 3310 records, 7 independent predictor variables and one numeric dependent variable. There are no null values."
   ]
  },
  {
   "cell_type": "code",
   "execution_count": 6,
   "metadata": {},
   "outputs": [
    {
     "data": {
      "text/plain": [
       "INDEX                AxesSubplot(0.125,0.71587;0.168478x0.16413)\n",
       "TARGET_RINGS      AxesSubplot(0.327174,0.71587;0.168478x0.16413)\n",
       "Length            AxesSubplot(0.529348,0.71587;0.168478x0.16413)\n",
       "Diameter          AxesSubplot(0.731522,0.71587;0.168478x0.16413)\n",
       "Height              AxesSubplot(0.125,0.518913;0.168478x0.16413)\n",
       "WholeWeight      AxesSubplot(0.327174,0.518913;0.168478x0.16413)\n",
       "ShuckedWeight    AxesSubplot(0.529348,0.518913;0.168478x0.16413)\n",
       "VisceraWeight    AxesSubplot(0.731522,0.518913;0.168478x0.16413)\n",
       "ShellWeight         AxesSubplot(0.125,0.321957;0.168478x0.16413)\n",
       "dtype: object"
      ]
     },
     "execution_count": 6,
     "metadata": {},
     "output_type": "execute_result"
    },
    {
     "data": {
      "image/png": "[encoded data removed]",
      "text/plain": [
       "<Figure size 1440x1152 with 9 Axes>"
      ]
     },
     "metadata": {},
     "output_type": "display_data"
    },
    {
     "data": {
      "image/png": "[encoded data removed]",
      "text/plain": [
       "<Figure size 1440x1152 with 16 Axes>"
      ]
     },
     "metadata": {},
     "output_type": "display_data"
    }
   ],
   "source": [
    "# Show training data plots\n",
    "train.hist(figsize = (20, 16))\n",
    "train.plot(kind='box', subplots=True, layout=(4,4), sharex=False, sharey=False, figsize=(20,16))"
   ]
  },
  {
   "cell_type": "code",
   "execution_count": 7,
   "metadata": {},
   "outputs": [
    {
     "data": {
      "text/plain": [
       "(array([ 419.,   44.,  703., 1381.,  473.,  177.,   83.,   25.,    2.,\n",
       "           3.]),\n",
       " array([ 0. ,  2.9,  5.8,  8.7, 11.6, 14.5, 17.4, 20.3, 23.2, 26.1, 29. ]),\n",
       " <a list of 10 Patch objects>)"
      ]
     },
     "execution_count": 7,
     "metadata": {},
     "output_type": "execute_result"
    },
    {
     "data": {
      "image/png": "[encoded data removed]",
      "text/plain": [
       "<Figure size 1440x1152 with 1 Axes>"
      ]
     },
     "metadata": {},
     "output_type": "display_data"
    }
   ],
   "source": [
    "plt.figure(figsize = (20, 16))\n",
    "plt.hist(train['TARGET_RINGS'])"
   ]
  },
  {
   "cell_type": "markdown",
   "metadata": {},
   "source": [
    "The histogram of the response variable TARGET_RINGS shows a large number of zero values indicating this may be best predicted using a zero-inflated model."
   ]
  },
  {
   "cell_type": "markdown",
   "metadata": {},
   "source": [
    "#### TEST DATA SET"
   ]
  },
  {
   "cell_type": "code",
   "execution_count": 11,
   "metadata": {},
   "outputs": [
    {
     "name": "stdout",
     "output_type": "stream",
     "text": [
      "<class 'pandas.core.frame.DataFrame'>\n",
      "RangeIndex: 867 entries, 0 to 866\n",
      "Data columns (total 10 columns):\n",
      "INDEX            867 non-null float64\n",
      "TARGET_RINGS     0 non-null float64\n",
      "Sex              867 non-null object\n",
      "Length           867 non-null float64\n",
      "Diameter         867 non-null float64\n",
      "Height           867 non-null float64\n",
      "WholeWeight      867 non-null float64\n",
      "ShuckedWeight    867 non-null float64\n",
      "VisceraWeight    867 non-null float64\n",
      "ShellWeight      867 non-null float64\n",
      "dtypes: float64(9), object(1)\n",
      "memory usage: 67.8+ KB\n",
      "None\n"
     ]
    },
    {
     "data": {
      "text/html": [
       "<div>\n",
       "<style scoped>\n",
       "    .dataframe tbody tr th:only-of-type {\n",
       "        vertical-align: middle;\n",
       "    }\n",
       "\n",
       "    .dataframe tbody tr th {\n",
       "        vertical-align: top;\n",
       "    }\n",
       "\n",
       "    .dataframe thead th {\n",
       "        text-align: right;\n",
       "    }\n",
       "</style>\n",
       "<table border=\"1\" class=\"dataframe\">\n",
       "  <thead>\n",
       "    <tr style=\"text-align: right;\">\n",
       "      <th></th>\n",
       "      <th>INDEX</th>\n",
       "      <th>TARGET_RINGS</th>\n",
       "      <th>Length</th>\n",
       "      <th>Diameter</th>\n",
       "      <th>Height</th>\n",
       "      <th>WholeWeight</th>\n",
       "      <th>ShuckedWeight</th>\n",
       "      <th>VisceraWeight</th>\n",
       "      <th>ShellWeight</th>\n",
       "    </tr>\n",
       "  </thead>\n",
       "  <tbody>\n",
       "    <tr>\n",
       "      <th>count</th>\n",
       "      <td>867.000000</td>\n",
       "      <td>0.0</td>\n",
       "      <td>867.000000</td>\n",
       "      <td>867.000000</td>\n",
       "      <td>867.000000</td>\n",
       "      <td>867.000000</td>\n",
       "      <td>867.000000</td>\n",
       "      <td>867.00000</td>\n",
       "      <td>867.000000</td>\n",
       "    </tr>\n",
       "    <tr>\n",
       "      <th>mean</th>\n",
       "      <td>2085.301038</td>\n",
       "      <td>NaN</td>\n",
       "      <td>0.528691</td>\n",
       "      <td>0.410594</td>\n",
       "      <td>0.141436</td>\n",
       "      <td>0.840291</td>\n",
       "      <td>0.364335</td>\n",
       "      <td>0.18402</td>\n",
       "      <td>0.242101</td>\n",
       "    </tr>\n",
       "    <tr>\n",
       "      <th>std</th>\n",
       "      <td>1200.520456</td>\n",
       "      <td>NaN</td>\n",
       "      <td>0.117899</td>\n",
       "      <td>0.097546</td>\n",
       "      <td>0.039679</td>\n",
       "      <td>0.480861</td>\n",
       "      <td>0.218426</td>\n",
       "      <td>0.10729</td>\n",
       "      <td>0.137811</td>\n",
       "    </tr>\n",
       "    <tr>\n",
       "      <th>min</th>\n",
       "      <td>1.000000</td>\n",
       "      <td>NaN</td>\n",
       "      <td>0.160000</td>\n",
       "      <td>0.110000</td>\n",
       "      <td>0.020000</td>\n",
       "      <td>0.018000</td>\n",
       "      <td>0.006500</td>\n",
       "      <td>0.00250</td>\n",
       "      <td>0.005000</td>\n",
       "    </tr>\n",
       "    <tr>\n",
       "      <th>25%</th>\n",
       "      <td>1058.500000</td>\n",
       "      <td>NaN</td>\n",
       "      <td>0.460000</td>\n",
       "      <td>0.355000</td>\n",
       "      <td>0.115000</td>\n",
       "      <td>0.466000</td>\n",
       "      <td>0.195250</td>\n",
       "      <td>0.09900</td>\n",
       "      <td>0.135750</td>\n",
       "    </tr>\n",
       "    <tr>\n",
       "      <th>50%</th>\n",
       "      <td>2048.000000</td>\n",
       "      <td>NaN</td>\n",
       "      <td>0.550000</td>\n",
       "      <td>0.425000</td>\n",
       "      <td>0.145000</td>\n",
       "      <td>0.824500</td>\n",
       "      <td>0.342000</td>\n",
       "      <td>0.17850</td>\n",
       "      <td>0.238000</td>\n",
       "    </tr>\n",
       "    <tr>\n",
       "      <th>75%</th>\n",
       "      <td>3169.500000</td>\n",
       "      <td>NaN</td>\n",
       "      <td>0.620000</td>\n",
       "      <td>0.485000</td>\n",
       "      <td>0.170000</td>\n",
       "      <td>1.168500</td>\n",
       "      <td>0.508250</td>\n",
       "      <td>0.25800</td>\n",
       "      <td>0.328000</td>\n",
       "    </tr>\n",
       "    <tr>\n",
       "      <th>max</th>\n",
       "      <td>4174.000000</td>\n",
       "      <td>NaN</td>\n",
       "      <td>0.815000</td>\n",
       "      <td>0.650000</td>\n",
       "      <td>0.515000</td>\n",
       "      <td>2.505000</td>\n",
       "      <td>1.245500</td>\n",
       "      <td>0.54100</td>\n",
       "      <td>0.885000</td>\n",
       "    </tr>\n",
       "  </tbody>\n",
       "</table>\n",
       "</div>"
      ],
      "text/plain": [
       "             INDEX  TARGET_RINGS      Length    Diameter      Height  \\\n",
       "count   867.000000           0.0  867.000000  867.000000  867.000000   \n",
       "mean   2085.301038           NaN    0.528691    0.410594    0.141436   \n",
       "std    1200.520456           NaN    0.117899    0.097546    0.039679   \n",
       "min       1.000000           NaN    0.160000    0.110000    0.020000   \n",
       "25%    1058.500000           NaN    0.460000    0.355000    0.115000   \n",
       "50%    2048.000000           NaN    0.550000    0.425000    0.145000   \n",
       "75%    3169.500000           NaN    0.620000    0.485000    0.170000   \n",
       "max    4174.000000           NaN    0.815000    0.650000    0.515000   \n",
       "\n",
       "       WholeWeight  ShuckedWeight  VisceraWeight  ShellWeight  \n",
       "count   867.000000     867.000000      867.00000   867.000000  \n",
       "mean      0.840291       0.364335        0.18402     0.242101  \n",
       "std       0.480861       0.218426        0.10729     0.137811  \n",
       "min       0.018000       0.006500        0.00250     0.005000  \n",
       "25%       0.466000       0.195250        0.09900     0.135750  \n",
       "50%       0.824500       0.342000        0.17850     0.238000  \n",
       "75%       1.168500       0.508250        0.25800     0.328000  \n",
       "max       2.505000       1.245500        0.54100     0.885000  "
      ]
     },
     "execution_count": 11,
     "metadata": {},
     "output_type": "execute_result"
    }
   ],
   "source": [
    "# We need to perform the same actions on the test set, let's take a look at the data\n",
    "# ------------- TEST -----------------\n",
    "print(test.info())\n",
    "test.describe()"
   ]
  },
  {
   "cell_type": "markdown",
   "metadata": {},
   "source": [
    "In TEST data, we have 867 observations and no response data. The goal will be to predict the resopnse TARGET_RINGS for the test data using zero-inflated model. There are no negative or null values in this set of predictors."
   ]
  },
  {
   "cell_type": "code",
   "execution_count": 12,
   "metadata": {},
   "outputs": [
    {
     "data": {
      "text/plain": [
       "INDEX                AxesSubplot(0.125,0.71587;0.168478x0.16413)\n",
       "TARGET_RINGS      AxesSubplot(0.327174,0.71587;0.168478x0.16413)\n",
       "Length            AxesSubplot(0.529348,0.71587;0.168478x0.16413)\n",
       "Diameter          AxesSubplot(0.731522,0.71587;0.168478x0.16413)\n",
       "Height              AxesSubplot(0.125,0.518913;0.168478x0.16413)\n",
       "WholeWeight      AxesSubplot(0.327174,0.518913;0.168478x0.16413)\n",
       "ShuckedWeight    AxesSubplot(0.529348,0.518913;0.168478x0.16413)\n",
       "VisceraWeight    AxesSubplot(0.731522,0.518913;0.168478x0.16413)\n",
       "ShellWeight         AxesSubplot(0.125,0.321957;0.168478x0.16413)\n",
       "dtype: object"
      ]
     },
     "execution_count": 12,
     "metadata": {},
     "output_type": "execute_result"
    },
    {
     "data": {
      "image/png": "[encoded data removed]",
      "text/plain": [
       "<Figure size 1440x1152 with 9 Axes>"
      ]
     },
     "metadata": {},
     "output_type": "display_data"
    },
    {
     "data": {
      "image/png": "[encoded data removed]",
      "text/plain": [
       "<Figure size 1440x1152 with 16 Axes>"
      ]
     },
     "metadata": {},
     "output_type": "display_data"
    }
   ],
   "source": [
    "# Show test data plots\n",
    "test.hist(figsize = (20, 16))\n",
    "test.plot(kind='box', subplots=True, layout=(4,4), sharex=False, sharey=False, figsize=(20,16))"
   ]
  },
  {
   "cell_type": "markdown",
   "metadata": {},
   "source": [
    "### Part 2 - Data Cleaning"
   ]
  },
  {
   "cell_type": "code",
   "execution_count": 14,
   "metadata": {},
   "outputs": [
    {
     "name": "stdout",
     "output_type": "stream",
     "text": [
      "9.109969788519637\n",
      "20.520837159208114\n"
     ]
    }
   ],
   "source": [
    "# TRAIN\n",
    "# Check the mean and variance of the TARGET_RINGS in training data:\n",
    "print(np.mean(train['TARGET_RINGS']))\n",
    "print(np.var(train['TARGET_RINGS']))\n"
   ]
  },
  {
   "cell_type": "markdown",
   "metadata": {},
   "source": [
    "Note: this is overdispersed poisson"
   ]
  },
  {
   "cell_type": "markdown",
   "metadata": {},
   "source": [
    "I noticed a few items that need addressed before proceeding to model building."
   ]
  },
  {
   "cell_type": "code",
   "execution_count": 17,
   "metadata": {},
   "outputs": [
    {
     "name": "stdout",
     "output_type": "stream",
     "text": [
      "There are 0 records in training with height of zero.\n"
     ]
    },
    {
     "data": {
      "text/plain": [
       "count    3310.000000\n",
       "mean        0.139083\n",
       "std         0.042229\n",
       "min         0.010000\n",
       "25%         0.115000\n",
       "50%         0.140000\n",
       "75%         0.165000\n",
       "max         1.130000\n",
       "Name: Height, dtype: float64"
      ]
     },
     "execution_count": 17,
     "metadata": {},
     "output_type": "execute_result"
    }
   ],
   "source": [
    "# TRAIN\n",
    "# First, the min height reported in the training set shows 0 which clearly isn't correct. There are several small height values, but should not be zero.\n",
    "print('There are ' + str(len(train[train['Height'] == 0])) + ' records in training with height of zero.') \n",
    "# let's changes these to the match the lower quartile as a limited min\n",
    "a = np.array(train['Height'].values.tolist())\n",
    "train['Height'] = np.where(a == 0, np.quantile(train['Height'], .25), a).tolist()\n",
    "train['Height'].describe()\n",
    "\n",
    "\n",
    "# TEST\n"
   ]
  },
  {
   "cell_type": "code",
   "execution_count": 16,
   "metadata": {},
   "outputs": [],
   "source": [
    "# Now lets replot the train and test sets with cleaned data\n",
    "# ----- TRAIN ------\n",
    "# train.hist(figsize = (20, 16))\n",
    "# train.plot(kind='box', subplots=True, layout=(5,5), sharex=False, sharey=False, figsize=(20,16))"
   ]
  },
  {
   "cell_type": "code",
   "execution_count": 17,
   "metadata": {},
   "outputs": [],
   "source": [
    "# ----- TEST ------\n",
    "# test.hist(figsize = (20, 16))\n",
    "# test.plot(kind='box', subplots=True, layout=(5,5), sharex=False, sharey=False, figsize=(20,16))"
   ]
  },
  {
   "cell_type": "markdown",
   "metadata": {},
   "source": [
    "Now let's save the clearned sets as new data frames to build the models with."
   ]
  },
  {
   "cell_type": "code",
   "execution_count": 18,
   "metadata": {},
   "outputs": [],
   "source": [
    "# TRAIN\n",
    "train_clean = train\n",
    "\n",
    "# TEST\n",
    "test_clean = test"
   ]
  },
  {
   "cell_type": "markdown",
   "metadata": {},
   "source": [
    "### Part 3 - Build Models"
   ]
  },
  {
   "cell_type": "markdown",
   "metadata": {},
   "source": [
    "Now we need to determine the parameters to use for the model. Because this is a two-step model I will not focus much on variable selection. I chose two predictor sets to try, a simple option and complex option. After checking the p-values, I removed the insignificant variables and moved forward with option 2 below. After adding a constant term for the intercept, I created the y and X parameters for model 2."
   ]
  },
  {
   "cell_type": "code",
   "execution_count": 19,
   "metadata": {},
   "outputs": [],
   "source": [
    "#First create new var to indicate zero rings \n",
    "train['TARGET_BINARY'] = np.where(train['TARGET_RINGS'] == 0, 0, 1)"
   ]
  },
  {
   "cell_type": "code",
   "execution_count": 20,
   "metadata": {},
   "outputs": [
    {
     "name": "stdout",
     "output_type": "stream",
     "text": [
      "   Diameter  Height  ShuckedWeight  WholeWeight\n",
      "0     0.365   0.095         0.2245       0.5140\n",
      "1     0.420   0.135         0.2565       0.6770\n",
      "2     0.400   0.130         0.2580       0.6645\n",
      "3     0.340   0.100         0.1880       0.4510\n",
      "4     0.280   0.095         0.0955       0.2455\n",
      "   Diameter  Height  ShuckedWeight  WholeWeight\n",
      "0     0.265   0.090         0.0995       0.2255\n",
      "1     0.365   0.125         0.2155       0.5160\n",
      "2     0.255   0.080         0.0895       0.2050\n",
      "3     0.300   0.095         0.1410       0.3515\n",
      "4     0.415   0.150         0.2370       0.7775\n"
     ]
    }
   ],
   "source": [
    "# Model Param trials\n",
    "p1 = ['Diameter', 'Height'] # model1\n",
    "p2 = ['Diameter', 'Height', 'ShuckedWeight', 'WholeWeight'] # model2\n",
    "\n",
    "# ------------------- TRAIN ------------------------\n",
    "train = sm.tools.tools.add_constant(train)\n",
    "y = train['TARGET_BINARY']\n",
    "X = train[p2].copy()\n",
    "#X[\"intercept\"] = 1\n",
    " \n",
    "# ------------------- TEST  ------------------------\n",
    "test = sm.tools.tools.add_constant(test)\n",
    "X_test = test[p2].copy()\n",
    "#X_test[\"intercept\"] = 1\n",
    "\n",
    "print(X_test.head())\n",
    "print(X.head())"
   ]
  },
  {
   "cell_type": "markdown",
   "metadata": {},
   "source": [
    "### Step 1 - Logistic model to determine if abalone has at least one ring"
   ]
  },
  {
   "cell_type": "markdown",
   "metadata": {},
   "source": [
    "We need to build a logistic model to separate the training data into zero and not-zero ring counts"
   ]
  },
  {
   "cell_type": "code",
   "execution_count": 21,
   "metadata": {},
   "outputs": [
    {
     "name": "stdout",
     "output_type": "stream",
     "text": [
      "Optimization terminated successfully.\n",
      "         Current function value: 0.123779\n",
      "         Iterations 11\n"
     ]
    },
    {
     "data": {
      "text/html": [
       "<table class=\"simpletable\">\n",
       "<caption>Logit Regression Results</caption>\n",
       "<tr>\n",
       "  <th>Dep. Variable:</th>   <td>TARGET_BINARY</td>  <th>  No. Observations:  </th>  <td>  3310</td> \n",
       "</tr>\n",
       "<tr>\n",
       "  <th>Model:</th>               <td>Logit</td>      <th>  Df Residuals:      </th>  <td>  3306</td> \n",
       "</tr>\n",
       "<tr>\n",
       "  <th>Method:</th>               <td>MLE</td>       <th>  Df Model:          </th>  <td>     3</td> \n",
       "</tr>\n",
       "<tr>\n",
       "  <th>Date:</th>          <td>Sat, 18 Aug 2018</td> <th>  Pseudo R-squ.:     </th>  <td>0.6736</td> \n",
       "</tr>\n",
       "<tr>\n",
       "  <th>Time:</th>              <td>03:10:50</td>     <th>  Log-Likelihood:    </th> <td> -409.71</td>\n",
       "</tr>\n",
       "<tr>\n",
       "  <th>converged:</th>           <td>True</td>       <th>  LL-Null:           </th> <td> -1255.4</td>\n",
       "</tr>\n",
       "<tr>\n",
       "  <th> </th>                      <td> </td>        <th>  LLR p-value:       </th>  <td> 0.000</td> \n",
       "</tr>\n",
       "</table>\n",
       "<table class=\"simpletable\">\n",
       "<tr>\n",
       "        <td></td>           <th>coef</th>     <th>std err</th>      <th>z</th>      <th>P>|z|</th>  <th>[0.025</th>    <th>0.975]</th>  \n",
       "</tr>\n",
       "<tr>\n",
       "  <th>Diameter</th>      <td>  -43.1887</td> <td>    3.608</td> <td>  -11.969</td> <td> 0.000</td> <td>  -50.261</td> <td>  -36.117</td>\n",
       "</tr>\n",
       "<tr>\n",
       "  <th>Height</th>        <td>   61.8251</td> <td>    8.938</td> <td>    6.917</td> <td> 0.000</td> <td>   44.307</td> <td>   79.343</td>\n",
       "</tr>\n",
       "<tr>\n",
       "  <th>ShuckedWeight</th> <td>  -55.5535</td> <td>    6.742</td> <td>   -8.240</td> <td> 0.000</td> <td>  -68.768</td> <td>  -42.339</td>\n",
       "</tr>\n",
       "<tr>\n",
       "  <th>WholeWeight</th>   <td>   50.1373</td> <td>    3.996</td> <td>   12.548</td> <td> 0.000</td> <td>   42.306</td> <td>   57.968</td>\n",
       "</tr>\n",
       "</table><br/><br/>Possibly complete quasi-separation: A fraction 0.55 of observations can be<br/>perfectly predicted. This might indicate that there is complete<br/>quasi-separation. In this case some parameters will not be identified."
      ],
      "text/plain": [
       "<class 'statsmodels.iolib.summary.Summary'>\n",
       "\"\"\"\n",
       "                           Logit Regression Results                           \n",
       "==============================================================================\n",
       "Dep. Variable:          TARGET_BINARY   No. Observations:                 3310\n",
       "Model:                          Logit   Df Residuals:                     3306\n",
       "Method:                           MLE   Df Model:                            3\n",
       "Date:                Sat, 18 Aug 2018   Pseudo R-squ.:                  0.6736\n",
       "Time:                        03:10:50   Log-Likelihood:                -409.71\n",
       "converged:                       True   LL-Null:                       -1255.4\n",
       "                                        LLR p-value:                     0.000\n",
       "=================================================================================\n",
       "                    coef    std err          z      P>|z|      [0.025      0.975]\n",
       "---------------------------------------------------------------------------------\n",
       "Diameter        -43.1887      3.608    -11.969      0.000     -50.261     -36.117\n",
       "Height           61.8251      8.938      6.917      0.000      44.307      79.343\n",
       "ShuckedWeight   -55.5535      6.742     -8.240      0.000     -68.768     -42.339\n",
       "WholeWeight      50.1373      3.996     12.548      0.000      42.306      57.968\n",
       "=================================================================================\n",
       "\n",
       "Possibly complete quasi-separation: A fraction 0.55 of observations can be\n",
       "perfectly predicted. This might indicate that there is complete\n",
       "quasi-separation. In this case some parameters will not be identified.\n",
       "\"\"\""
      ]
     },
     "execution_count": 21,
     "metadata": {},
     "output_type": "execute_result"
    }
   ],
   "source": [
    "logit1 = smf.Logit(y, X)\n",
    "result = logit1.fit()\n",
    "result.summary()"
   ]
  },
  {
   "cell_type": "code",
   "execution_count": 22,
   "metadata": {},
   "outputs": [
    {
     "name": "stderr",
     "output_type": "stream",
     "text": [
      "/home/knightandrew/miniconda3/lib/python3.6/site-packages/seaborn/categorical.py:3666: UserWarning: The `factorplot` function has been renamed to `catplot`. The original name will be removed in a future release. Please update your code. Note that the default `kind` in `factorplot` (`'point'`) has changed `'strip'` in `catplot`.\n",
      "  warnings.warn(msg)\n"
     ]
    },
    {
     "data": {
      "text/plain": [
       "<seaborn.axisgrid.FacetGrid at 0x7bbdc9c2d6d8>"
      ]
     },
     "execution_count": 22,
     "metadata": {},
     "output_type": "execute_result"
    },
    {
     "data": {
      "image/png": "[encoded data removed]",
      "text/plain": [
       "<Figure size 360x360 with 1 Axes>"
      ]
     },
     "metadata": {},
     "output_type": "display_data"
    }
   ],
   "source": [
    "sea.factorplot(\"TARGET_BINARY\", data = train, aspect=1.0, kind='count')"
   ]
  },
  {
   "cell_type": "code",
   "execution_count": 23,
   "metadata": {},
   "outputs": [],
   "source": [
    "# Now predict using the model zero logit model fit above\n",
    "predarray = result.predict(X)\n",
    "train['y_binary_pred'] = predarray"
   ]
  },
  {
   "cell_type": "code",
   "execution_count": 24,
   "metadata": {},
   "outputs": [
    {
     "name": "stdout",
     "output_type": "stream",
     "text": [
      "3310\n",
      "                 0\n",
      "count  2892.000000\n",
      "mean      0.954399\n",
      "std       0.145446\n",
      "min       0.037908\n",
      "25%       0.997536\n",
      "50%       0.999997\n",
      "75%       1.000000\n",
      "max       1.000000\n",
      "                  0\n",
      "count  4.180000e+02\n",
      "mean   3.045117e-01\n",
      "std    2.368010e-01\n",
      "min    2.448832e-12\n",
      "25%    1.187202e-01\n",
      "50%    2.347389e-01\n",
      "75%    4.231767e-01\n",
      "max    9.845970e-01\n"
     ]
    }
   ],
   "source": [
    "#separate into two data frames from zero ring records and those with one or more rings\n",
    "hasrings = pd.DataFrame(np.where(train['TARGET_BINARY'] == 1, train['y_binary_pred'], np.nan)).dropna()\n",
    "norings = pd.DataFrame(np.where(train['TARGET_BINARY'] == 0, train['y_binary_pred'], np.nan)).dropna()\n",
    "print(len(hasrings) + len(norings)) # just checking to make sure this equals total count of train\n",
    "\n",
    "# now check min of hasrings and the max of no rings, use this to establish a cutoff point in y_binary_flag\n",
    "print(hasrings.describe())\n",
    "print(norings.describe())\n",
    "\n",
    "# Let's just use 0.9 for now as a simple cutoff value.\n",
    "cutoff_val = 0.9\n"
   ]
  },
  {
   "cell_type": "code",
   "execution_count": 25,
   "metadata": {},
   "outputs": [],
   "source": [
    "# Now use Logit predict to create a new variable in test for the predictions\n",
    "# ------------- TRAIN --------------\n",
    "train['y_binary_pred'] = result.predict(X)\n",
    "train['y_binary_flag'] = np.where(train['y_binary_pred'] > cutoff_val, 1, 0)\n",
    "\n",
    "# ------------- TEST  --------------\n",
    "test['y_binary_pred'] = result.predict(X_test)\n",
    "test['y_binary_flag'] = np.where(test['y_binary_pred'] > cutoff_val, 1, 0)"
   ]
  },
  {
   "cell_type": "code",
   "execution_count": 26,
   "metadata": {},
   "outputs": [
    {
     "data": {
      "text/html": [
       "<div>\n",
       "<style scoped>\n",
       "    .dataframe tbody tr th:only-of-type {\n",
       "        vertical-align: middle;\n",
       "    }\n",
       "\n",
       "    .dataframe tbody tr th {\n",
       "        vertical-align: top;\n",
       "    }\n",
       "\n",
       "    .dataframe thead th {\n",
       "        text-align: right;\n",
       "    }\n",
       "</style>\n",
       "<table border=\"1\" class=\"dataframe\">\n",
       "  <thead>\n",
       "    <tr style=\"text-align: right;\">\n",
       "      <th></th>\n",
       "      <th>const</th>\n",
       "      <th>INDEX</th>\n",
       "      <th>TARGET_RINGS</th>\n",
       "      <th>Sex</th>\n",
       "      <th>Length</th>\n",
       "      <th>Diameter</th>\n",
       "      <th>Height</th>\n",
       "      <th>WholeWeight</th>\n",
       "      <th>ShuckedWeight</th>\n",
       "      <th>VisceraWeight</th>\n",
       "      <th>ShellWeight</th>\n",
       "      <th>y_binary_pred</th>\n",
       "      <th>y_binary_flag</th>\n",
       "    </tr>\n",
       "  </thead>\n",
       "  <tbody>\n",
       "    <tr>\n",
       "      <th>0</th>\n",
       "      <td>1.0</td>\n",
       "      <td>1.0</td>\n",
       "      <td>NaN</td>\n",
       "      <td>b'M'</td>\n",
       "      <td>0.455</td>\n",
       "      <td>0.365</td>\n",
       "      <td>0.095</td>\n",
       "      <td>0.5140</td>\n",
       "      <td>0.2245</td>\n",
       "      <td>0.1010</td>\n",
       "      <td>0.150</td>\n",
       "      <td>0.967963</td>\n",
       "      <td>1</td>\n",
       "    </tr>\n",
       "    <tr>\n",
       "      <th>1</th>\n",
       "      <td>1.0</td>\n",
       "      <td>3.0</td>\n",
       "      <td>NaN</td>\n",
       "      <td>b'F'</td>\n",
       "      <td>0.530</td>\n",
       "      <td>0.420</td>\n",
       "      <td>0.135</td>\n",
       "      <td>0.6770</td>\n",
       "      <td>0.2565</td>\n",
       "      <td>0.1415</td>\n",
       "      <td>0.210</td>\n",
       "      <td>0.999950</td>\n",
       "      <td>1</td>\n",
       "    </tr>\n",
       "    <tr>\n",
       "      <th>2</th>\n",
       "      <td>1.0</td>\n",
       "      <td>16.0</td>\n",
       "      <td>NaN</td>\n",
       "      <td>b'M'</td>\n",
       "      <td>0.500</td>\n",
       "      <td>0.400</td>\n",
       "      <td>0.130</td>\n",
       "      <td>0.6645</td>\n",
       "      <td>0.2580</td>\n",
       "      <td>0.1330</td>\n",
       "      <td>0.240</td>\n",
       "      <td>0.999941</td>\n",
       "      <td>1</td>\n",
       "    </tr>\n",
       "    <tr>\n",
       "      <th>3</th>\n",
       "      <td>1.0</td>\n",
       "      <td>18.0</td>\n",
       "      <td>NaN</td>\n",
       "      <td>b'F'</td>\n",
       "      <td>0.440</td>\n",
       "      <td>0.340</td>\n",
       "      <td>0.100</td>\n",
       "      <td>0.4510</td>\n",
       "      <td>0.1880</td>\n",
       "      <td>0.0870</td>\n",
       "      <td>0.130</td>\n",
       "      <td>0.975064</td>\n",
       "      <td>1</td>\n",
       "    </tr>\n",
       "    <tr>\n",
       "      <th>4</th>\n",
       "      <td>1.0</td>\n",
       "      <td>21.0</td>\n",
       "      <td>NaN</td>\n",
       "      <td>b'M'</td>\n",
       "      <td>0.355</td>\n",
       "      <td>0.280</td>\n",
       "      <td>0.095</td>\n",
       "      <td>0.2455</td>\n",
       "      <td>0.0955</td>\n",
       "      <td>0.0620</td>\n",
       "      <td>0.075</td>\n",
       "      <td>0.686517</td>\n",
       "      <td>0</td>\n",
       "    </tr>\n",
       "    <tr>\n",
       "      <th>5</th>\n",
       "      <td>1.0</td>\n",
       "      <td>24.0</td>\n",
       "      <td>NaN</td>\n",
       "      <td>b'F'</td>\n",
       "      <td>0.550</td>\n",
       "      <td>0.415</td>\n",
       "      <td>0.135</td>\n",
       "      <td>0.7635</td>\n",
       "      <td>0.3180</td>\n",
       "      <td>0.2100</td>\n",
       "      <td>0.200</td>\n",
       "      <td>0.999984</td>\n",
       "      <td>1</td>\n",
       "    </tr>\n",
       "    <tr>\n",
       "      <th>6</th>\n",
       "      <td>1.0</td>\n",
       "      <td>28.0</td>\n",
       "      <td>NaN</td>\n",
       "      <td>b'M'</td>\n",
       "      <td>0.590</td>\n",
       "      <td>0.445</td>\n",
       "      <td>0.140</td>\n",
       "      <td>0.9310</td>\n",
       "      <td>0.3560</td>\n",
       "      <td>0.2340</td>\n",
       "      <td>0.280</td>\n",
       "      <td>1.000000</td>\n",
       "      <td>1</td>\n",
       "    </tr>\n",
       "    <tr>\n",
       "      <th>7</th>\n",
       "      <td>1.0</td>\n",
       "      <td>29.0</td>\n",
       "      <td>NaN</td>\n",
       "      <td>b'M'</td>\n",
       "      <td>0.605</td>\n",
       "      <td>0.475</td>\n",
       "      <td>0.180</td>\n",
       "      <td>0.9365</td>\n",
       "      <td>0.3940</td>\n",
       "      <td>0.2190</td>\n",
       "      <td>0.295</td>\n",
       "      <td>1.000000</td>\n",
       "      <td>1</td>\n",
       "    </tr>\n",
       "    <tr>\n",
       "      <th>8</th>\n",
       "      <td>1.0</td>\n",
       "      <td>35.0</td>\n",
       "      <td>NaN</td>\n",
       "      <td>b'F'</td>\n",
       "      <td>0.705</td>\n",
       "      <td>0.550</td>\n",
       "      <td>0.200</td>\n",
       "      <td>1.7095</td>\n",
       "      <td>0.6330</td>\n",
       "      <td>0.4115</td>\n",
       "      <td>0.490</td>\n",
       "      <td>1.000000</td>\n",
       "      <td>1</td>\n",
       "    </tr>\n",
       "    <tr>\n",
       "      <th>9</th>\n",
       "      <td>1.0</td>\n",
       "      <td>36.0</td>\n",
       "      <td>NaN</td>\n",
       "      <td>b'M'</td>\n",
       "      <td>0.465</td>\n",
       "      <td>0.355</td>\n",
       "      <td>0.105</td>\n",
       "      <td>0.4795</td>\n",
       "      <td>0.2270</td>\n",
       "      <td>0.1240</td>\n",
       "      <td>0.125</td>\n",
       "      <td>0.930204</td>\n",
       "      <td>1</td>\n",
       "    </tr>\n",
       "  </tbody>\n",
       "</table>\n",
       "</div>"
      ],
      "text/plain": [
       "   const  INDEX  TARGET_RINGS   Sex  Length  Diameter  Height  WholeWeight  \\\n",
       "0    1.0    1.0           NaN  b'M'   0.455     0.365   0.095       0.5140   \n",
       "1    1.0    3.0           NaN  b'F'   0.530     0.420   0.135       0.6770   \n",
       "2    1.0   16.0           NaN  b'M'   0.500     0.400   0.130       0.6645   \n",
       "3    1.0   18.0           NaN  b'F'   0.440     0.340   0.100       0.4510   \n",
       "4    1.0   21.0           NaN  b'M'   0.355     0.280   0.095       0.2455   \n",
       "5    1.0   24.0           NaN  b'F'   0.550     0.415   0.135       0.7635   \n",
       "6    1.0   28.0           NaN  b'M'   0.590     0.445   0.140       0.9310   \n",
       "7    1.0   29.0           NaN  b'M'   0.605     0.475   0.180       0.9365   \n",
       "8    1.0   35.0           NaN  b'F'   0.705     0.550   0.200       1.7095   \n",
       "9    1.0   36.0           NaN  b'M'   0.465     0.355   0.105       0.4795   \n",
       "\n",
       "   ShuckedWeight  VisceraWeight  ShellWeight  y_binary_pred  y_binary_flag  \n",
       "0         0.2245         0.1010        0.150       0.967963              1  \n",
       "1         0.2565         0.1415        0.210       0.999950              1  \n",
       "2         0.2580         0.1330        0.240       0.999941              1  \n",
       "3         0.1880         0.0870        0.130       0.975064              1  \n",
       "4         0.0955         0.0620        0.075       0.686517              0  \n",
       "5         0.3180         0.2100        0.200       0.999984              1  \n",
       "6         0.3560         0.2340        0.280       1.000000              1  \n",
       "7         0.3940         0.2190        0.295       1.000000              1  \n",
       "8         0.6330         0.4115        0.490       1.000000              1  \n",
       "9         0.2270         0.1240        0.125       0.930204              1  "
      ]
     },
     "execution_count": 26,
     "metadata": {},
     "output_type": "execute_result"
    }
   ],
   "source": [
    "#train.head(50)\n",
    "test.head(10)"
   ]
  },
  {
   "cell_type": "markdown",
   "metadata": {},
   "source": [
    "While this is a simplistic model for estimating zero rings in the test set, it provides a viable method to subset the test data based on 'no rings' using a consistent method from train data."
   ]
  },
  {
   "cell_type": "code",
   "execution_count": 27,
   "metadata": {},
   "outputs": [
    {
     "name": "stdout",
     "output_type": "stream",
     "text": [
      "    const  INDEX  TARGET_RINGS   Sex  Length  Diameter  Height  WholeWeight  \\\n",
      "1     1.0    4.0          10.0  b'M'   0.440     0.365   0.125       0.5160   \n",
      "3     1.0    6.0           0.0  b'I'   0.425     0.300   0.095       0.3515   \n",
      "4     1.0    7.0          20.0  b'F'   0.530     0.415   0.150       0.7775   \n",
      "5     1.0    8.0          16.0  b'F'   0.545     0.425   0.125       0.7680   \n",
      "6     1.0    9.0           9.0  b'M'   0.475     0.370   0.125       0.5095   \n",
      "7     1.0   10.0          19.0  b'F'   0.550     0.440   0.150       0.8945   \n",
      "8     1.0   11.0          14.0  b'F'   0.525     0.380   0.140       0.6065   \n",
      "9     1.0   12.0          10.0  b'M'   0.430     0.350   0.110       0.4060   \n",
      "10    1.0   13.0          11.0  b'M'   0.490     0.380   0.135       0.5415   \n",
      "11    1.0   14.0          10.0  b'F'   0.535     0.405   0.145       0.6845   \n",
      "\n",
      "    ShuckedWeight  VisceraWeight  ShellWeight  TARGET_BINARY  y_binary_pred  \\\n",
      "1          0.2155         0.1140        0.155              1       0.997166   \n",
      "3          0.1410         0.0775        0.120              0       0.937437   \n",
      "4          0.2370         0.1415        0.330              1       1.000000   \n",
      "5          0.2940         0.1495        0.260              1       0.999990   \n",
      "6          0.2165         0.1125        0.165              1       0.994862   \n",
      "7          0.3145         0.1510        0.320              1       1.000000   \n",
      "8          0.1940         0.1475        0.210              1       0.999993   \n",
      "9          0.1675         0.0810        0.135              1       0.939074   \n",
      "10         0.2175         0.0950        0.190              1       0.999090   \n",
      "11         0.2725         0.1710        0.205              1       0.999976   \n",
      "\n",
      "    y_binary_flag  \n",
      "1               1  \n",
      "3               1  \n",
      "4               1  \n",
      "5               1  \n",
      "6               1  \n",
      "7               1  \n",
      "8               1  \n",
      "9               1  \n",
      "10              1  \n",
      "11              1  \n"
     ]
    },
    {
     "data": {
      "text/html": [
       "<div>\n",
       "<style scoped>\n",
       "    .dataframe tbody tr th:only-of-type {\n",
       "        vertical-align: middle;\n",
       "    }\n",
       "\n",
       "    .dataframe tbody tr th {\n",
       "        vertical-align: top;\n",
       "    }\n",
       "\n",
       "    .dataframe thead th {\n",
       "        text-align: right;\n",
       "    }\n",
       "</style>\n",
       "<table border=\"1\" class=\"dataframe\">\n",
       "  <thead>\n",
       "    <tr style=\"text-align: right;\">\n",
       "      <th></th>\n",
       "      <th>const</th>\n",
       "      <th>INDEX</th>\n",
       "      <th>TARGET_RINGS</th>\n",
       "      <th>Sex</th>\n",
       "      <th>Length</th>\n",
       "      <th>Diameter</th>\n",
       "      <th>Height</th>\n",
       "      <th>WholeWeight</th>\n",
       "      <th>ShuckedWeight</th>\n",
       "      <th>VisceraWeight</th>\n",
       "      <th>ShellWeight</th>\n",
       "      <th>y_binary_pred</th>\n",
       "      <th>y_binary_flag</th>\n",
       "    </tr>\n",
       "  </thead>\n",
       "  <tbody>\n",
       "    <tr>\n",
       "      <th>0</th>\n",
       "      <td>1.0</td>\n",
       "      <td>1.0</td>\n",
       "      <td>NaN</td>\n",
       "      <td>b'M'</td>\n",
       "      <td>0.455</td>\n",
       "      <td>0.365</td>\n",
       "      <td>0.095</td>\n",
       "      <td>0.5140</td>\n",
       "      <td>0.2245</td>\n",
       "      <td>0.1010</td>\n",
       "      <td>0.150</td>\n",
       "      <td>0.967963</td>\n",
       "      <td>1</td>\n",
       "    </tr>\n",
       "    <tr>\n",
       "      <th>1</th>\n",
       "      <td>1.0</td>\n",
       "      <td>3.0</td>\n",
       "      <td>NaN</td>\n",
       "      <td>b'F'</td>\n",
       "      <td>0.530</td>\n",
       "      <td>0.420</td>\n",
       "      <td>0.135</td>\n",
       "      <td>0.6770</td>\n",
       "      <td>0.2565</td>\n",
       "      <td>0.1415</td>\n",
       "      <td>0.210</td>\n",
       "      <td>0.999950</td>\n",
       "      <td>1</td>\n",
       "    </tr>\n",
       "    <tr>\n",
       "      <th>2</th>\n",
       "      <td>1.0</td>\n",
       "      <td>16.0</td>\n",
       "      <td>NaN</td>\n",
       "      <td>b'M'</td>\n",
       "      <td>0.500</td>\n",
       "      <td>0.400</td>\n",
       "      <td>0.130</td>\n",
       "      <td>0.6645</td>\n",
       "      <td>0.2580</td>\n",
       "      <td>0.1330</td>\n",
       "      <td>0.240</td>\n",
       "      <td>0.999941</td>\n",
       "      <td>1</td>\n",
       "    </tr>\n",
       "    <tr>\n",
       "      <th>3</th>\n",
       "      <td>1.0</td>\n",
       "      <td>18.0</td>\n",
       "      <td>NaN</td>\n",
       "      <td>b'F'</td>\n",
       "      <td>0.440</td>\n",
       "      <td>0.340</td>\n",
       "      <td>0.100</td>\n",
       "      <td>0.4510</td>\n",
       "      <td>0.1880</td>\n",
       "      <td>0.0870</td>\n",
       "      <td>0.130</td>\n",
       "      <td>0.975064</td>\n",
       "      <td>1</td>\n",
       "    </tr>\n",
       "    <tr>\n",
       "      <th>5</th>\n",
       "      <td>1.0</td>\n",
       "      <td>24.0</td>\n",
       "      <td>NaN</td>\n",
       "      <td>b'F'</td>\n",
       "      <td>0.550</td>\n",
       "      <td>0.415</td>\n",
       "      <td>0.135</td>\n",
       "      <td>0.7635</td>\n",
       "      <td>0.3180</td>\n",
       "      <td>0.2100</td>\n",
       "      <td>0.200</td>\n",
       "      <td>0.999984</td>\n",
       "      <td>1</td>\n",
       "    </tr>\n",
       "    <tr>\n",
       "      <th>6</th>\n",
       "      <td>1.0</td>\n",
       "      <td>28.0</td>\n",
       "      <td>NaN</td>\n",
       "      <td>b'M'</td>\n",
       "      <td>0.590</td>\n",
       "      <td>0.445</td>\n",
       "      <td>0.140</td>\n",
       "      <td>0.9310</td>\n",
       "      <td>0.3560</td>\n",
       "      <td>0.2340</td>\n",
       "      <td>0.280</td>\n",
       "      <td>1.000000</td>\n",
       "      <td>1</td>\n",
       "    </tr>\n",
       "    <tr>\n",
       "      <th>7</th>\n",
       "      <td>1.0</td>\n",
       "      <td>29.0</td>\n",
       "      <td>NaN</td>\n",
       "      <td>b'M'</td>\n",
       "      <td>0.605</td>\n",
       "      <td>0.475</td>\n",
       "      <td>0.180</td>\n",
       "      <td>0.9365</td>\n",
       "      <td>0.3940</td>\n",
       "      <td>0.2190</td>\n",
       "      <td>0.295</td>\n",
       "      <td>1.000000</td>\n",
       "      <td>1</td>\n",
       "    </tr>\n",
       "    <tr>\n",
       "      <th>8</th>\n",
       "      <td>1.0</td>\n",
       "      <td>35.0</td>\n",
       "      <td>NaN</td>\n",
       "      <td>b'F'</td>\n",
       "      <td>0.705</td>\n",
       "      <td>0.550</td>\n",
       "      <td>0.200</td>\n",
       "      <td>1.7095</td>\n",
       "      <td>0.6330</td>\n",
       "      <td>0.4115</td>\n",
       "      <td>0.490</td>\n",
       "      <td>1.000000</td>\n",
       "      <td>1</td>\n",
       "    </tr>\n",
       "    <tr>\n",
       "      <th>9</th>\n",
       "      <td>1.0</td>\n",
       "      <td>36.0</td>\n",
       "      <td>NaN</td>\n",
       "      <td>b'M'</td>\n",
       "      <td>0.465</td>\n",
       "      <td>0.355</td>\n",
       "      <td>0.105</td>\n",
       "      <td>0.4795</td>\n",
       "      <td>0.2270</td>\n",
       "      <td>0.1240</td>\n",
       "      <td>0.125</td>\n",
       "      <td>0.930204</td>\n",
       "      <td>1</td>\n",
       "    </tr>\n",
       "    <tr>\n",
       "      <th>10</th>\n",
       "      <td>1.0</td>\n",
       "      <td>37.0</td>\n",
       "      <td>NaN</td>\n",
       "      <td>b'F'</td>\n",
       "      <td>0.540</td>\n",
       "      <td>0.475</td>\n",
       "      <td>0.155</td>\n",
       "      <td>1.2170</td>\n",
       "      <td>0.5305</td>\n",
       "      <td>0.3075</td>\n",
       "      <td>0.340</td>\n",
       "      <td>1.000000</td>\n",
       "      <td>1</td>\n",
       "    </tr>\n",
       "  </tbody>\n",
       "</table>\n",
       "</div>"
      ],
      "text/plain": [
       "    const  INDEX  TARGET_RINGS   Sex  Length  Diameter  Height  WholeWeight  \\\n",
       "0     1.0    1.0           NaN  b'M'   0.455     0.365   0.095       0.5140   \n",
       "1     1.0    3.0           NaN  b'F'   0.530     0.420   0.135       0.6770   \n",
       "2     1.0   16.0           NaN  b'M'   0.500     0.400   0.130       0.6645   \n",
       "3     1.0   18.0           NaN  b'F'   0.440     0.340   0.100       0.4510   \n",
       "5     1.0   24.0           NaN  b'F'   0.550     0.415   0.135       0.7635   \n",
       "6     1.0   28.0           NaN  b'M'   0.590     0.445   0.140       0.9310   \n",
       "7     1.0   29.0           NaN  b'M'   0.605     0.475   0.180       0.9365   \n",
       "8     1.0   35.0           NaN  b'F'   0.705     0.550   0.200       1.7095   \n",
       "9     1.0   36.0           NaN  b'M'   0.465     0.355   0.105       0.4795   \n",
       "10    1.0   37.0           NaN  b'F'   0.540     0.475   0.155       1.2170   \n",
       "\n",
       "    ShuckedWeight  VisceraWeight  ShellWeight  y_binary_pred  y_binary_flag  \n",
       "0          0.2245         0.1010        0.150       0.967963              1  \n",
       "1          0.2565         0.1415        0.210       0.999950              1  \n",
       "2          0.2580         0.1330        0.240       0.999941              1  \n",
       "3          0.1880         0.0870        0.130       0.975064              1  \n",
       "5          0.3180         0.2100        0.200       0.999984              1  \n",
       "6          0.3560         0.2340        0.280       1.000000              1  \n",
       "7          0.3940         0.2190        0.295       1.000000              1  \n",
       "8          0.6330         0.4115        0.490       1.000000              1  \n",
       "9          0.2270         0.1240        0.125       0.930204              1  \n",
       "10         0.5305         0.3075        0.340       1.000000              1  "
      ]
     },
     "execution_count": 27,
     "metadata": {},
     "output_type": "execute_result"
    }
   ],
   "source": [
    "# Final piece is to create a reduced data set for use in the following Poisson model\n",
    "\n",
    "# ------------- TRAIN --------------\n",
    "reduced_train = train[train['y_binary_flag'] == 1]\n",
    "print(reduced_train.head(10))\n",
    "\n",
    "# ------------- TEST  --------------\n",
    "reduced_test = test[test['y_binary_flag'] == 1]\n",
    "\n",
    "#print(len(reduced_test[reduced_test['y_binary_flag'] == 0]))\n",
    "#reduced_test.describe()\n",
    "reduced_test.head(10)"
   ]
  },
  {
   "cell_type": "markdown",
   "metadata": {},
   "source": [
    "### Step 2 - Fit Poisson model to the training set of non-zero counts"
   ]
  },
  {
   "cell_type": "code",
   "execution_count": 28,
   "metadata": {},
   "outputs": [
    {
     "name": "stdout",
     "output_type": "stream",
     "text": [
      "Optimization terminated successfully.\n",
      "         Current function value: 2.373188\n",
      "         Iterations 5\n",
      "                          Poisson Regression Results                          \n",
      "==============================================================================\n",
      "Dep. Variable:           TARGET_RINGS   No. Observations:                 2606\n",
      "Model:                        Poisson   Df Residuals:                     2601\n",
      "Method:                           MLE   Df Model:                            4\n",
      "Date:                Sat, 18 Aug 2018   Pseudo R-squ.:                 0.06202\n",
      "Time:                        03:15:41   Log-Likelihood:                -6184.5\n",
      "converged:                       True   LL-Null:                       -6593.5\n",
      "                                        LLR p-value:                1.008e-175\n",
      "=================================================================================\n",
      "                    coef    std err          z      P>|z|      [0.025      0.975]\n",
      "---------------------------------------------------------------------------------\n",
      "const             1.7811      0.074     24.125      0.000       1.636       1.926\n",
      "Diameter          0.8398      0.230      3.657      0.000       0.390       1.290\n",
      "Height            0.8309      0.199      4.181      0.000       0.441       1.220\n",
      "ShuckedWeight    -2.1065      0.095    -22.169      0.000      -2.293      -1.920\n",
      "WholeWeight       0.9876      0.054     18.206      0.000       0.881       1.094\n",
      "=================================================================================\n"
     ]
    }
   ],
   "source": [
    "# Build the poisson model, first for the training set\n",
    "poisson1 = sm.Poisson(reduced_train['TARGET_RINGS'], reduced_train[['const', 'Diameter', 'Height', 'ShuckedWeight', 'WholeWeight']])\n",
    "result1 = poisson1.fit()  \n",
    "print (result1.summary())"
   ]
  },
  {
   "cell_type": "markdown",
   "metadata": {},
   "source": [
    "All four coefficients are statsitically significant. The log-likelihood is -6184.5 and while this model could probably be improved it's a gives us a quick model for predicting the non-zero ring counts in the test set."
   ]
  },
  {
   "cell_type": "code",
   "execution_count": 37,
   "metadata": {},
   "outputs": [],
   "source": [
    "# # Now try the Negative Binomial model for the training set too\n",
    "# negbinom1 = sm.NegativeBinomial(reduced_train['TARGET_RINGS'], reduced_train[['const', 'Diameter', 'Height', 'ShuckedWeight', 'WholeWeight']])\n",
    "# result2 = negbinom1.fit()\n",
    "# print(result2.summary())"
   ]
  },
  {
   "cell_type": "code",
   "execution_count": 38,
   "metadata": {},
   "outputs": [],
   "source": [
    "# Get the model predictions\n",
    "predict1 = poisson1.predict(reduced_train[['const', 'Diameter', 'Height', 'ShuckedWeight', 'WholeWeight']])\n",
    "predict2 = None"
   ]
  },
  {
   "cell_type": "code",
   "execution_count": 60,
   "metadata": {},
   "outputs": [
    {
     "name": "stdout",
     "output_type": "stream",
     "text": [
      "\n",
      "The model MSE is 313.591\n",
      "The model MAE is 7.27\n"
     ]
    },
    {
     "data": {
      "image/png": "[encoded data removed]",
      "text/plain": [
       "<Figure size 720x576 with 1 Axes>"
      ]
     },
     "metadata": {},
     "output_type": "display_data"
    }
   ],
   "source": [
    "# Let's score the predictions of the model\n",
    "# model_pred = poisson1.predict(X)\n",
    "# print(model_pred)\n",
    "\n",
    "# 1# Show plots\n",
    "plt.figure(figsize = (10, 8))\n",
    "plt.hist(predict1[0])\n",
    "\n",
    "# Evaluate model by metrics\n",
    "# MSE\n",
    "model1_mse = metrics.mean_squared_error(predict1, reduced_train[['const', 'Diameter', 'Height', 'ShuckedWeight', 'WholeWeight']])\n",
    "print('\\nThe model MSE is ' + str(round(model1_mse, 3)))\n",
    "\n",
    "# MAE\n",
    "model1_mae = metrics.mean_absolute_error(predict1, reduced_train[['const', 'Diameter', 'Height', 'ShuckedWeight', 'WholeWeight']])\n",
    "print('The model MAE is ' + str(round(model1_mae, 3)))"
   ]
  },
  {
   "cell_type": "markdown",
   "metadata": {},
   "source": [
    "This shows the predicted rings for the reduced training set (non-zero rings) based on the Poisson model."
   ]
  },
  {
   "cell_type": "markdown",
   "metadata": {},
   "source": [
    "### Part 4 - Create Scored Data File"
   ]
  },
  {
   "cell_type": "code",
   "execution_count": 61,
   "metadata": {},
   "outputs": [],
   "source": [
    "# Use this to predict for the cleaned test data\n",
    "testpreds = np.round(result1.predict(reduced_test[['const', 'Diameter', 'Height', 'ShuckedWeight', 'WholeWeight']]), 0)\n",
    "#print(testpreds.head(20))\n",
    "pred_out['P_TARGET_RINGS'] = testpreds[: ]"
   ]
  },
  {
   "cell_type": "code",
   "execution_count": 62,
   "metadata": {},
   "outputs": [
    {
     "data": {
      "text/plain": [
       "count    699.000000\n",
       "mean      10.728183\n",
       "std        1.864444\n",
       "min        7.000000\n",
       "25%        9.500000\n",
       "50%       10.000000\n",
       "75%       11.000000\n",
       "max       24.000000\n",
       "dtype: float64"
      ]
     },
     "execution_count": 62,
     "metadata": {},
     "output_type": "execute_result"
    }
   ],
   "source": [
    "testpreds.describe()"
   ]
  },
  {
   "cell_type": "markdown",
   "metadata": {},
   "source": [
    "These predictions seem plausible based on training set values."
   ]
  },
  {
   "cell_type": "code",
   "execution_count": 63,
   "metadata": {},
   "outputs": [
    {
     "name": "stdout",
     "output_type": "stream",
     "text": [
      "   INDEX  P_TARGET_RINGS\n",
      "0    1.0             9.0\n",
      "1    3.0            11.0\n",
      "2   16.0            10.0\n",
      "3   18.0             9.0\n",
      "5   24.0            10.0\n"
     ]
    }
   ],
   "source": [
    "# Output the predictions file\n",
    "your_model = pred_out.loc[:,['INDEX','P_TARGET_RINGS']]\n",
    "print(your_model.head())\n",
    "your_model.to_csv('Andrew_Knight_Abalone_ScoredTestData.csv', index = False)"
   ]
  },
  {
   "cell_type": "markdown",
   "metadata": {},
   "source": [
    "The predictions output file is named **Andrew_Knight_Abalone_ScoredTestData.csv** and contains the final model predicitons for the test set. \n",
    "\n",
    "This file includes the INDEX and the P_TARGET_RINGS, which gives predicted number of rings for Abalones in the test set."
   ]
  },
  {
   "cell_type": "code",
   "execution_count": null,
   "metadata": {},
   "outputs": [],
   "source": []
  }
 ],
 "metadata": {
  "kernelspec": {
   "display_name": "Python 3",
   "language": "python",
   "name": "python3"
  },
  "language_info": {
   "codemirror_mode": {
    "name": "ipython",
    "version": 3
   },
   "file_extension": ".py",
   "mimetype": "text/x-python",
   "name": "python",
   "nbconvert_exporter": "python",
   "pygments_lexer": "ipython3",
   "version": "3.6.5"
  }
 },
 "nbformat": 4,
 "nbformat_minor": 2
}
