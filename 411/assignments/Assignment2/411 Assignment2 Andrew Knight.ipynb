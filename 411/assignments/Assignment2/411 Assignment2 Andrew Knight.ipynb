{
 "cells": [
  {
   "cell_type": "markdown",
   "metadata": {},
   "source": [
    "## 411 Assignment #2\n",
    "Author: Andrew Knight"
   ]
  },
  {
   "cell_type": "code",
   "execution_count": 1,
   "metadata": {},
   "outputs": [],
   "source": [
    "#imports\n",
    "import pandas as pd      \n",
    "import numpy as np  # arrays and math functions\n",
    "import matplotlib.pyplot as plt  # static plotting\n",
    "import statsmodels as sm\n",
    "import statsmodels.formula.api as smf  # R-like model specification\n",
    "import statsmodels.api as sm\n",
    "import matplotlib.pyplot as plt \n",
    "from scipy import stats\n",
    "from sklearn import linear_model, metrics"
   ]
  },
  {
   "cell_type": "code",
   "execution_count": 2,
   "metadata": {},
   "outputs": [],
   "source": [
    "#Set some basic display items\n",
    "get_ipython().magic(u'matplotlib inline')\n",
    "\n",
    "#Set some display options   \n",
    "pd.set_option('display.notebook_repr_html', False) \n",
    "pd.set_option('display.max_columns', 40) \n",
    "pd.set_option('display.max_rows', 10) \n",
    "pd.set_option('display.width', 120)"
   ]
  },
  {
   "cell_type": "code",
   "execution_count": 6,
   "metadata": {},
   "outputs": [
    {
     "data": {
      "text/plain": [
       "   index  target_flag  target_amt  kidsdriv   age  homekids   yoj    income parent1  home_val mstatus  sex  \\\n",
       "0      1            0         0.0         0  60.0         0  11.0   $67,349      No        $0    z_No    M   \n",
       "1      2            0         0.0         0  43.0         0  11.0   $91,449      No  $257,252    z_No    M   \n",
       "2      4            0         0.0         0  35.0         1  10.0   $16,039      No  $124,191     Yes  z_F   \n",
       "3      5            0         0.0         0  51.0         0  14.0       NaN      No  $306,251     Yes    M   \n",
       "4      6            0         0.0         0  50.0         0   NaN  $114,986      No  $243,925     Yes  z_F   \n",
       "\n",
       "       education            job  travtime     car_use bluebook  tif car_type red_car oldclaim  clm_freq revoked  \\\n",
       "0            PhD   Professional        14     Private  $14,230   11  Minivan     yes   $4,461         2      No   \n",
       "1  z_High School  z_Blue Collar        22  Commercial  $14,940    1  Minivan     yes       $0         0      No   \n",
       "2  z_High School       Clerical         5     Private   $4,010    4    z_SUV      no  $38,690         2      No   \n",
       "3   <High School  z_Blue Collar        32     Private  $15,440    7  Minivan     yes       $0         0      No   \n",
       "4            PhD         Doctor        36     Private  $18,000    1    z_SUV      no  $19,217         2     Yes   \n",
       "\n",
       "   mvr_pts  car_age           urbanicity  \n",
       "0        3     18.0  Highly Urban/ Urban  \n",
       "1        0      1.0  Highly Urban/ Urban  \n",
       "2        3     10.0  Highly Urban/ Urban  \n",
       "3        0      6.0  Highly Urban/ Urban  \n",
       "4        3     17.0  Highly Urban/ Urban  "
      ]
     },
     "execution_count": 6,
     "metadata": {},
     "output_type": "execute_result"
    }
   ],
   "source": [
    "#Read in the auto ins dataset\n",
    "train = pd.read_csv('train_auto.csv')\n",
    "test = pd.read_csv('test_auto.csv')\n",
    "#A good step to take is to convert all variable names to lower case\n",
    "train.columns = [s.lower() for s in train.columns]\n",
    "test.columns = [s.lower() for s in train.columns]\n",
    "train.head()\n",
    "#train.shape"
   ]
  },
  {
   "cell_type": "code",
   "execution_count": 5,
   "metadata": {},
   "outputs": [
    {
     "name": "stdout",
     "output_type": "stream",
     "text": [
      "\n",
      "----- Summary of Input Data -----\n",
      "\n",
      "Object type:  <class 'pandas.core.frame.DataFrame'>\n",
      "Number of observations:  8161\n",
      "Variable names:  Index(['index', 'target_flag', 'target_amt', 'kidsdriv', 'age', 'homekids', 'yoj', 'income', 'parent1', 'home_val',\n",
      "       'mstatus', 'sex', 'education', 'job', 'travtime', 'car_use', 'bluebook', 'tif', 'car_type', 'red_car',\n",
      "       'oldclaim', 'clm_freq', 'revoked', 'mvr_pts', 'car_age', 'urbanicity'],\n",
      "      dtype='object')\n",
      "\n",
      "---------------- TRAINING DATA ------------------\n",
      "\n",
      "              index  target_flag     target_amt     kidsdriv          age     homekids          yoj     travtime  \\\n",
      "count   8161.000000  8161.000000    8161.000000  8161.000000  8161.000000  8161.000000  8161.000000  8161.000000   \n",
      "mean    5151.867663     0.263816    1504.324648     0.171057    44.757383     0.721235     9.915206    33.485725   \n",
      "std     2978.893962     0.440728    4704.026930     0.511534     8.709455     1.116323     4.648494    15.908333   \n",
      "min        1.000000     0.000000       0.000000     0.000000     0.000000     0.000000     0.000000     5.000000   \n",
      "25%     2559.000000     0.000000       0.000000     0.000000    39.000000     0.000000     8.000000    22.000000   \n",
      "50%     5133.000000     0.000000       0.000000     0.000000    45.000000     0.000000    11.000000    33.000000   \n",
      "75%     7745.000000     1.000000    1036.000000     0.000000    51.000000     1.000000    13.000000    44.000000   \n",
      "max    10302.000000     1.000000  107586.136160     4.000000    81.000000     5.000000    23.000000   142.000000   \n",
      "\n",
      "               tif     clm_freq      mvr_pts      car_age  \n",
      "count  8161.000000  8161.000000  8161.000000  8161.000000  \n",
      "mean      5.351305     0.798554     1.695503     8.310746  \n",
      "std       4.146635     1.158453     2.147112     5.517996  \n",
      "min       1.000000     0.000000     0.000000    -3.000000  \n",
      "25%       1.000000     0.000000     0.000000     4.000000  \n",
      "50%       4.000000     0.000000     1.000000     8.000000  \n",
      "75%       7.000000     2.000000     3.000000    12.000000  \n",
      "max      25.000000     5.000000    13.000000    28.000000  \n",
      "\n",
      "---------------- TESTING DATA ------------------\n",
      "\n",
      "              index  target_flag  target_amt     kidsdriv          age     homekids          yoj     travtime  \\\n",
      "count   2141.000000       2141.0      2141.0  2141.000000  2141.000000  2141.000000  2141.000000  2141.000000   \n",
      "mean    5150.098552          0.0         0.0     0.162541    44.995796     0.717422     9.923400    33.152265   \n",
      "std     2956.329272          0.0         0.0     0.486949     8.578362     1.116579     4.598834    15.722393   \n",
      "min        3.000000          0.0         0.0     0.000000     0.000000     0.000000     0.000000     5.000000   \n",
      "25%     2632.000000          0.0         0.0     0.000000    39.000000     0.000000     8.000000    22.000000   \n",
      "50%     5224.000000          0.0         0.0     0.000000    45.000000     0.000000    11.000000    33.000000   \n",
      "75%     7669.000000          0.0         0.0     0.000000    51.000000     1.000000    13.000000    43.000000   \n",
      "max    10300.000000          0.0         0.0     3.000000    73.000000     5.000000    19.000000   105.000000   \n",
      "\n",
      "               tif     clm_freq      mvr_pts      car_age  \n",
      "count  2141.000000  2141.000000  2141.000000  2141.000000  \n",
      "mean      5.244745     0.808968     1.765997     8.176086  \n",
      "std       3.971026     1.137481     2.203413     5.587144  \n",
      "min       1.000000     0.000000     0.000000     1.000000  \n",
      "25%       1.000000     0.000000     0.000000     1.000000  \n",
      "50%       4.000000     0.000000     1.000000     8.000000  \n",
      "75%       7.000000     2.000000     3.000000    12.000000  \n",
      "max      25.000000     5.000000    12.000000    26.000000  \n"
     ]
    }
   ],
   "source": [
    "print('')\n",
    "print('----- Summary of Input Data -----')\n",
    "print('')\n",
    "\n",
    "# show the object is a DataFrame\n",
    "print('Object type: ', type(train))\n",
    "\n",
    "# show number of observations in the DataFrame\n",
    "print('Number of observations: ', len(train))\n",
    "\n",
    "# show variable names\n",
    "print('Variable names: ', train.columns)\n",
    "\n",
    "# show descriptive statistics\n",
    "#print(train.describe())\n",
    "#watch the count it will tell you if a variable has some missing values that you will need to deal with\n",
    "train=train.fillna(0)\n",
    "\n",
    "print('\\n---------------- TRAINING DATA ------------------\\n')\n",
    "m = np.median(train.car_age[train.car_age>0])\n",
    "train1=train.replace({'car_age': {0: m}}) \n",
    "print(train1.describe())\n",
    "\n",
    "#Make sure whatever you do to the training data you also do to the test data otherwise your model will not score properly\n",
    "print('\\n---------------- TESTING DATA ------------------\\n')\n",
    "test=test.fillna(0)\n",
    "test1=test.replace({'car_age': {0: m}})\n",
    "print(test1.describe())"
   ]
  },
  {
   "cell_type": "code",
   "execution_count": 22,
   "metadata": {},
   "outputs": [
    {
     "name": "stdout",
     "output_type": "stream",
     "text": [
      "Optimization terminated successfully.\n",
      "         Current function value: 0.528299\n",
      "         Iterations 6\n",
      "                           Logit Regression Results                           \n",
      "==============================================================================\n",
      "Dep. Variable:            target_flag   No. Observations:                 8161\n",
      "Model:                          Logit   Df Residuals:                     8152\n",
      "Method:                           MLE   Df Model:                            8\n",
      "Date:                Tue, 24 Jul 2018   Pseudo R-squ.:                 0.08442\n",
      "Time:                        13:12:45   Log-Likelihood:                -4311.5\n",
      "converged:                       True   LL-Null:                       -4709.0\n",
      "                                        LLR p-value:                2.388e-166\n",
      "==============================================================================================\n",
      "                                 coef    std err          z      P>|z|      [0.025      0.975]\n",
      "----------------------------------------------------------------------------------------------\n",
      "Intercept                     -1.2684      0.081    -15.656      0.000      -1.427      -1.110\n",
      "education[T.Bachelors]        -0.4750      0.083     -5.703      0.000      -0.638      -0.312\n",
      "education[T.Masters]          -0.6329      0.091     -6.940      0.000      -0.812      -0.454\n",
      "education[T.PhD]              -0.8459      0.121     -7.005      0.000      -1.083      -0.609\n",
      "education[T.z_High School]     0.1148      0.079      1.446      0.148      -0.041       0.270\n",
      "mstatus[T.z_No]                0.6787      0.054     12.682      0.000       0.574       0.784\n",
      "tif                           -0.0474      0.007     -7.060      0.000      -0.060      -0.034\n",
      "kidsdriv                       0.3844      0.048      8.093      0.000       0.291       0.478\n",
      "mvr_pts                        0.2062      0.012     17.716      0.000       0.183       0.229\n",
      "==============================================================================================\n",
      "                                   0         1\n",
      "Intercept                  -1.427176 -1.109606\n",
      "education[T.Bachelors]     -0.638215 -0.311721\n",
      "education[T.Masters]       -0.811629 -0.454140\n",
      "education[T.PhD]           -1.082571 -0.609220\n",
      "education[T.z_High School] -0.040772  0.270326\n",
      "mstatus[T.z_No]             0.573794  0.783577\n",
      "tif                        -0.060498 -0.034207\n",
      "kidsdriv                    0.291332  0.477551\n",
      "mvr_pts                     0.183424  0.229059\n"
     ]
    }
   ],
   "source": [
    "#Example for a simple model\n",
    "logit1 = smf.logit('target_flag ~  education + mstatus + tif + kidsdriv + mvr_pts' , data=train1)  \n",
    "result = logit1.fit()  \n",
    "print (result.summary())\n",
    "print (result.conf_int())\n",
    "#dir(logit1)"
   ]
  },
  {
   "cell_type": "code",
   "execution_count": 9,
   "metadata": {},
   "outputs": [
    {
     "data": {
      "text/plain": [
       "<bound method NDFrame.head of       index  target_flag  p_target_flag\n",
       "0         3          0.0       0.331914\n",
       "1         9          0.0       0.509469\n",
       "2        10          0.0       0.279196\n",
       "3        18          0.0       0.318854\n",
       "4        21          0.0       0.575099\n",
       "...     ...          ...            ...\n",
       "2136  10279          0.0       0.305975\n",
       "2137  10281          0.0       0.292517\n",
       "2138  10285          0.0       0.085114\n",
       "2139  10294          0.0       0.214087\n",
       "2140  10300          0.0       0.168001\n",
       "\n",
       "[2141 rows x 3 columns]>"
      ]
     },
     "execution_count": 9,
     "metadata": {},
     "output_type": "execute_result"
    }
   ],
   "source": [
    "#use this model to predict for the test data\n",
    "preds = result.predict(test1)\n",
    "preds.head\n",
    "pred_out = test1.loc[:,['index','target_flag']]\n",
    "pred_out['p_target_flag'] = preds[: ]\n",
    "pred_out.head"
   ]
  },
  {
   "cell_type": "code",
   "execution_count": 10,
   "metadata": {},
   "outputs": [
    {
     "name": "stdout",
     "output_type": "stream",
     "text": [
      "              index     target_amt\n",
      "count   2153.000000    2153.000000\n",
      "mean    5143.559684    5702.179960\n",
      "std     2958.808298    7743.182975\n",
      "min        7.000000      30.277280\n",
      "25%     2559.000000    2609.778566\n",
      "50%     5170.000000    4104.000000\n",
      "75%     7645.000000    5787.000000\n",
      "max    10288.000000  107586.136160\n"
     ]
    },
    {
     "data": {
      "text/plain": [
       "<bound method NDFrame.head of       index  target_flag  p_target_flag  p_target_amt\n",
       "0         3          0.0       0.331914          5702\n",
       "1         9          0.0       0.509469          5702\n",
       "2        10          0.0       0.279196          5702\n",
       "3        18          0.0       0.318854          5702\n",
       "4        21          0.0       0.575099          5702\n",
       "...     ...          ...            ...           ...\n",
       "2136  10279          0.0       0.305975          5702\n",
       "2137  10281          0.0       0.292517          5702\n",
       "2138  10285          0.0       0.085114          5702\n",
       "2139  10294          0.0       0.214087          5702\n",
       "2140  10300          0.0       0.168001          5702\n",
       "\n",
       "[2141 rows x 4 columns]>"
      ]
     },
     "execution_count": 10,
     "metadata": {},
     "output_type": "execute_result"
    }
   ],
   "source": [
    "# Crash data where target_amt > 0\n",
    "train1.shape\n",
    "train_crash = train1[train1['target_amt'] != 0]\n",
    "train_crash.shape\n",
    "train_crash.head\n",
    "#It is OK to use the mean for target_amt 5702\n",
    "# or you can use ols model to predict target_amt\n",
    "small = train_crash.loc[:,['index','target_amt']]\n",
    "print(small.describe())\n",
    "pred_out['p_target_amt'] = 5702\n",
    "pred_out.head"
   ]
  },
  {
   "cell_type": "code",
   "execution_count": 12,
   "metadata": {},
   "outputs": [],
   "source": [
    "# Output predictions file\n",
    "#watch your record count should be 2141\n",
    "your_model = pred_out.loc[:,['index','p_target_flag','p_target_amt']]  \n",
    "your_model.head \n",
    "your_model.to_csv('example_hw02_predictions.csv', index = False)"
   ]
  },
  {
   "cell_type": "code",
   "execution_count": 16,
   "metadata": {},
   "outputs": [
    {
     "name": "stdout",
     "output_type": "stream",
     "text": [
      "Optimization terminated successfully.\n",
      "         Current function value: 0.547463\n",
      "         Iterations 5\n"
     ]
    },
    {
     "data": {
      "text/html": [
       "<table class=\"simpletable\">\n",
       "<caption>Logit Regression Results</caption>\n",
       "<tr>\n",
       "  <th>Dep. Variable:</th>    <td>target_flag</td>   <th>  No. Observations:  </th>   <td>  8161</td>  \n",
       "</tr>\n",
       "<tr>\n",
       "  <th>Model:</th>               <td>Logit</td>      <th>  Df Residuals:      </th>   <td>  8157</td>  \n",
       "</tr>\n",
       "<tr>\n",
       "  <th>Method:</th>               <td>MLE</td>       <th>  Df Model:          </th>   <td>     3</td>  \n",
       "</tr>\n",
       "<tr>\n",
       "  <th>Date:</th>          <td>Tue, 24 Jul 2018</td> <th>  Pseudo R-squ.:     </th>   <td>0.05121</td> \n",
       "</tr>\n",
       "<tr>\n",
       "  <th>Time:</th>              <td>12:44:15</td>     <th>  Log-Likelihood:    </th>  <td> -4467.8</td> \n",
       "</tr>\n",
       "<tr>\n",
       "  <th>converged:</th>           <td>True</td>       <th>  LL-Null:           </th>  <td> -4709.0</td> \n",
       "</tr>\n",
       "<tr>\n",
       "  <th> </th>                      <td> </td>        <th>  LLR p-value:       </th> <td>3.317e-104</td>\n",
       "</tr>\n",
       "</table>\n",
       "<table class=\"simpletable\">\n",
       "<tr>\n",
       "      <td></td>        <th>coef</th>     <th>std err</th>      <th>z</th>      <th>P>|z|</th>  <th>[0.025</th>    <th>0.975]</th>  \n",
       "</tr>\n",
       "<tr>\n",
       "  <th>tif</th>      <td>   -0.0447</td> <td>    0.007</td> <td>   -6.822</td> <td> 0.000</td> <td>   -0.058</td> <td>   -0.032</td>\n",
       "</tr>\n",
       "<tr>\n",
       "  <th>kidsdriv</th> <td>    0.3804</td> <td>    0.046</td> <td>    8.208</td> <td> 0.000</td> <td>    0.290</td> <td>    0.471</td>\n",
       "</tr>\n",
       "<tr>\n",
       "  <th>mvr_pts</th>  <td>    0.2102</td> <td>    0.011</td> <td>   18.466</td> <td> 0.000</td> <td>    0.188</td> <td>    0.233</td>\n",
       "</tr>\n",
       "<tr>\n",
       "  <th>constant</th> <td>   -1.2674</td> <td>    0.049</td> <td>  -26.005</td> <td> 0.000</td> <td>   -1.363</td> <td>   -1.172</td>\n",
       "</tr>\n",
       "</table>"
      ],
      "text/plain": [
       "<class 'statsmodels.iolib.summary.Summary'>\n",
       "\"\"\"\n",
       "                           Logit Regression Results                           \n",
       "==============================================================================\n",
       "Dep. Variable:            target_flag   No. Observations:                 8161\n",
       "Model:                          Logit   Df Residuals:                     8157\n",
       "Method:                           MLE   Df Model:                            3\n",
       "Date:                Tue, 24 Jul 2018   Pseudo R-squ.:                 0.05121\n",
       "Time:                        12:44:15   Log-Likelihood:                -4467.8\n",
       "converged:                       True   LL-Null:                       -4709.0\n",
       "                                        LLR p-value:                3.317e-104\n",
       "==============================================================================\n",
       "                 coef    std err          z      P>|z|      [0.025      0.975]\n",
       "------------------------------------------------------------------------------\n",
       "tif           -0.0447      0.007     -6.822      0.000      -0.058      -0.032\n",
       "kidsdriv       0.3804      0.046      8.208      0.000       0.290       0.471\n",
       "mvr_pts        0.2102      0.011     18.466      0.000       0.188       0.233\n",
       "constant      -1.2674      0.049    -26.005      0.000      -1.363      -1.172\n",
       "==============================================================================\n",
       "\"\"\""
      ]
     },
     "execution_count": 16,
     "metadata": {},
     "output_type": "execute_result"
    }
   ],
   "source": [
    "#Some additional code for a reduced model to create the ROC curve and calculate AUC\n",
    "# import pandas as pd\n",
    "# import statsmodels as sm\n",
    "# from sklearn import linear_model, metrics\n",
    " \n",
    "train1['constant'] = 1\n",
    "X = train1[['tif','kidsdriv','mvr_pts','constant']].copy()\n",
    "y = train1[['target_flag']].copy()\n",
    "#  a different look logistic regression model\n",
    "logit = sm.Logit(train1['target_flag'], train1[['tif','kidsdriv','mvr_pts','constant']])\n",
    "result = logit.fit()\n",
    "result.summary()"
   ]
  },
  {
   "cell_type": "code",
   "execution_count": 18,
   "metadata": {},
   "outputs": [
    {
     "name": "stdout",
     "output_type": "stream",
     "text": [
      "0.646128315984\n"
     ]
    },
    {
     "data": {
      "image/png": "[encoded data removed]",
      "text/plain": [
       "<Figure size 432x288 with 1 Axes>"
      ]
     },
     "metadata": {},
     "output_type": "display_data"
    }
   ],
   "source": [
    "# sklearn model  to calculate AUC / create ROC curve\n",
    "logit = linear_model.LogisticRegression()\n",
    "model = logit.fit(train1[['tif','kidsdriv','mvr_pts','constant']], train1['target_flag'])\n",
    "\n",
    "# calculate the predicted probabilities\n",
    "preds = model.predict_proba(train1[['tif','kidsdriv','mvr_pts','constant']])[:,1]\n",
    "fpr, tpr, _ = metrics.roc_curve(train1['target_flag'], preds)\n",
    " \n",
    "# calculate AUC and create ROC curve\n",
    "roc_auc = metrics.auc(fpr,tpr)\n",
    "print(roc_auc)\n",
    "\n",
    "plt.figure()\n",
    "lw = 2\n",
    "plt.plot(fpr, tpr, color='darkorange',\n",
    "         lw=lw, label='ROC curve (area = %0.2f)' % roc_auc)\n",
    "plt.plot([0, 1], [0, 1], color='navy', lw=lw, linestyle='--')\n",
    "plt.xlim([0.0, 1.0])\n",
    "plt.ylim([0.0, 1.05])\n",
    "plt.xlabel('False Positive Rate')\n",
    "plt.ylabel('True Positive Rate')\n",
    "plt.title('ROC Curve')\n",
    "plt.legend(loc=\"lower right\")\n",
    "plt.show()"
   ]
  },
  {
   "cell_type": "code",
   "execution_count": 19,
   "metadata": {},
   "outputs": [
    {
     "name": "stdout",
     "output_type": "stream",
     "text": [
      "      index  target_flag  p_target_flag\n",
      "4982   6282            0       0.084278\n",
      "1297   1632            0       0.084278\n",
      "4642   5859            0       0.095228\n",
      "5120   6465            0       0.099152\n",
      "7306   9235            1       0.099152\n",
      "...     ...          ...            ...\n",
      "7831   9886            1       0.805397\n",
      "5821   7350            1       0.830149\n",
      "7819   9869            1       0.848241\n",
      "5464   6910            1       0.848241\n",
      "3772   4747            0       0.891028\n",
      "\n",
      "[8161 rows x 3 columns]\n",
      "4982     1\n",
      "1297     1\n",
      "4642     1\n",
      "5120     1\n",
      "7306     1\n",
      "        ..\n",
      "7831    10\n",
      "5821    10\n",
      "7819    10\n",
      "5464    10\n",
      "3772    10\n",
      "Name: p_target_flag, Length: 8161, dtype: category\n",
      "Categories (10, int64): [1 < 2 < 3 < 4 ... 7 < 8 < 9 < 10]\n",
      "       g\n",
      "4982   1\n",
      "1297   1\n",
      "4642   1\n",
      "5120   1\n",
      "7306   1\n",
      "...   ..\n",
      "7831  10\n",
      "5821  10\n",
      "7819  10\n",
      "5464  10\n",
      "3772  10\n",
      "\n",
      "[8161 rows x 1 columns]\n",
      "      index  target_flag  p_target_flag   g\n",
      "4982   6282            0       0.084278   1\n",
      "1297   1632            0       0.084278   1\n",
      "4642   5859            0       0.095228   1\n",
      "5120   6465            0       0.099152   1\n",
      "7306   9235            1       0.099152   1\n",
      "...     ...          ...            ...  ..\n",
      "7831   9886            1       0.805397  10\n",
      "5821   7350            1       0.830149  10\n",
      "7819   9869            1       0.848241  10\n",
      "5464   6910            1       0.848241  10\n",
      "3772   4747            0       0.891028  10\n",
      "\n",
      "[8161 rows x 4 columns]\n",
      "      index  target_flag  p_target_flag\n",
      "g                                      \n",
      "1   4528102          116     125.419521\n",
      "2   4478688          178     158.907439\n",
      "3   3368828          121     127.459438\n",
      "4   7751291          306     311.839748\n",
      "5    627341           30      30.253954\n",
      "6   4598293          221     212.337120\n",
      "7   4864596          254     259.136743\n",
      "8   3730225          236     228.587266\n",
      "9   3875552          271     279.946122\n",
      "10  4221476          420     419.112649\n"
     ]
    }
   ],
   "source": [
    "#Finally for the Hosmer-Lemeshow Lack of Fit\n",
    "pred_train = result.predict(X)\n",
    "pred_train.head\n",
    "pred_out = train1.loc[:,['index','target_flag']]\n",
    "pred_out['p_target_flag'] = pred_train[: ]\n",
    "pred_out.head \n",
    "#sort by pred\n",
    "result1 = pred_out.sort_values(by=('p_target_flag'))\n",
    "print (result1)\n",
    "\n",
    "#rank by decile\n",
    "result2 = pd.qcut(result1['p_target_flag'], 10, labels=[1,2,3,4,5,6,7,8,9,10])\n",
    "print (result2)\n",
    "d1 = {'g' : result2}\n",
    "df3 = pd.DataFrame(data=d1)\n",
    "print (df3)\n",
    "result3 = pd.concat([result1, df3], axis=1, join_axes=[result1.index])\n",
    "print (result3)\n",
    "\n",
    "sums = result3.groupby('g')\n",
    "sums1 = sums.aggregate(np.sum)\n",
    "print (sums1)"
   ]
  },
  {
   "cell_type": "code",
   "execution_count": 20,
   "metadata": {},
   "outputs": [
    {
     "data": {
      "image/png": "[encoded data removed]",
      "text/plain": [
       "<Figure size 432x288 with 1 Axes>"
      ]
     },
     "metadata": {},
     "output_type": "display_data"
    }
   ],
   "source": [
    "#plot target_flag vs pred\n",
    "def scat(dataframe,var1,var2,var3):     \n",
    "    dataframe[var2].plot()     \n",
    "    dataframe[var3].plot()     \n",
    "    plt.title('Hosmer-Lemeshow lack of fit trng data')     \n",
    "    plt.xlabel(var1)     \n",
    "    plt.ylabel('Sum by Group')\n",
    "scat(sums1, 'g', 'target_flag', 'p_target_flag')\n",
    "\n",
    "# #save as jpeg to place in your report\n",
    "# plt.savefig('c:/data/HLlackoffit2.jpeg')"
   ]
  },
  {
   "cell_type": "code",
   "execution_count": null,
   "metadata": {},
   "outputs": [],
   "source": []
  }
 ],
 "metadata": {
  "kernelspec": {
   "display_name": "Python 3",
   "language": "python",
   "name": "python3"
  },
  "language_info": {
   "codemirror_mode": {
    "name": "ipython",
    "version": 3
   },
   "file_extension": ".py",
   "mimetype": "text/x-python",
   "name": "python",
   "nbconvert_exporter": "python",
   "pygments_lexer": "ipython3",
   "version": "3.6.5"
  }
 },
 "nbformat": 4,
 "nbformat_minor": 2
}
