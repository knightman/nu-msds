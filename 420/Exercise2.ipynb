{
 "cells": [
  {
   "cell_type": "markdown",
   "metadata": {},
   "source": [
    "# Week #2 -  Python Practice "
   ]
  },
  {
   "cell_type": "markdown",
   "metadata": {},
   "source": [
    "###   Some Ins and Outs with Python  "
   ]
  },
  {
   "cell_type": "raw",
   "metadata": {},
   "source": [
    "\n",
    "\n",
    "There are many different kinds of data to be managed and analyzed today, and there are many ways to do it using Python.   Being able to manage and modify data isn't useful unless you can also get data into Python, and save your results from it.   Beginning with this session we're going to review techniques for input and output from Python starting with the simplest file formats and some basic Python tools.  We'll also take a first look at the pandas package.  Pandas has become very popular amongst “Pythonic” data scientists and is being used at the largest of the big data firms.  In the sessions that follow we'll consider more complicated file types and data “munging” tools and techniques.\n",
    "\n"
   ]
  },
  {
   "cell_type": "raw",
   "metadata": {},
   "source": [
    "So, let's start with flat files.  A flat file is just a file that's, well, flat.  It's typically a string of characters that may include end of line markers like a newline or carriage return code.  Let's write a simple flat file out to disk by entering the following command:\n"
   ]
  },
  {
   "cell_type": "code",
   "execution_count": 26,
   "metadata": {},
   "outputs": [],
   "source": [
    "outfile = open('myflatfile.txt','w')  # open to write to a text file"
   ]
  },
  {
   "cell_type": "raw",
   "metadata": {},
   "source": [
    "Note: “In [1]:” represents the command prompt in your IPython session.  Depending on what you've been doing in a session, the digit or digits you see in it will vary.  But you knew that, right?"
   ]
  },
  {
   "cell_type": "code",
   "execution_count": 27,
   "metadata": {},
   "outputs": [
    {
     "data": {
      "text/plain": [
       "<_io.TextIOWrapper name='myflatfile.txt' mode='w' encoding='UTF-8'>"
      ]
     },
     "execution_count": 27,
     "metadata": {},
     "output_type": "execute_result"
    }
   ],
   "source": [
    "outfile # outfile is an open file 'object' in write mode.  By default it's a text, not binary, file"
   ]
  },
  {
   "cell_type": "code",
   "execution_count": 28,
   "metadata": {},
   "outputs": [
    {
     "data": {
      "text/plain": [
       "_io.TextIOWrapper"
      ]
     },
     "execution_count": 28,
     "metadata": {},
     "output_type": "execute_result"
    }
   ],
   "source": [
    "type(outfile)"
   ]
  },
  {
   "cell_type": "raw",
   "metadata": {},
   "source": [
    "Pardon the slight digression, above.  It's purpose was to show what kind of Python 'object' outfile is.  (Everything in Python is an object, right?)  the .txt file name extension is optional.  Now, let's create a text string and then write it to outfile:"
   ]
  },
  {
   "cell_type": "code",
   "execution_count": 29,
   "metadata": {},
   "outputs": [],
   "source": [
    "iLikeButter='''Slather me toast with a bargefull of butter, and crown it with a bucket of Pythonberry jam.'''\n"
   ]
  },
  {
   "cell_type": "raw",
   "metadata": {},
   "source": [
    "This is obviously a quote from a high cholesterol data science pirate.  How many characters are in this string?  Try the function len(iLikeButter).\n"
   ]
  },
  {
   "cell_type": "code",
   "execution_count": 30,
   "metadata": {},
   "outputs": [
    {
     "data": {
      "text/plain": [
       "91"
      ]
     },
     "execution_count": 30,
     "metadata": {},
     "output_type": "execute_result"
    }
   ],
   "source": [
    "len(iLikeButter)"
   ]
  },
  {
   "cell_type": "raw",
   "metadata": {},
   "source": [
    "Write the string to outfile and then close outfile:"
   ]
  },
  {
   "cell_type": "code",
   "execution_count": 31,
   "metadata": {},
   "outputs": [
    {
     "data": {
      "text/plain": [
       "91"
      ]
     },
     "execution_count": 31,
     "metadata": {},
     "output_type": "execute_result"
    }
   ],
   "source": [
    "outfile.write(iLikeButter)"
   ]
  },
  {
   "cell_type": "code",
   "execution_count": 32,
   "metadata": {},
   "outputs": [],
   "source": [
    "outfile.close()\t\t# it's good practice to close whatever you open"
   ]
  },
  {
   "cell_type": "code",
   "execution_count": 33,
   "metadata": {},
   "outputs": [
    {
     "data": {
      "text/plain": [
       "'/mnt/c/Users/andrewknight/Dev/PREDICT_420/week2/Sync_Session_2/Exercise_2'"
      ]
     },
     "execution_count": 33,
     "metadata": {},
     "output_type": "execute_result"
    }
   ],
   "source": [
    "import os\n",
    "os.getcwd()"
   ]
  },
  {
   "cell_type": "raw",
   "metadata": {},
   "source": [
    "Let's read your file back in:"
   ]
  },
  {
   "cell_type": "code",
   "execution_count": 34,
   "metadata": {},
   "outputs": [
    {
     "data": {
      "text/plain": [
       "str"
      ]
     },
     "execution_count": 34,
     "metadata": {},
     "output_type": "execute_result"
    }
   ],
   "source": [
    "infile=open('myflatfile.txt','r')\t#read as a text file. For a binary, you'd use 'rb'\n",
    "doYouWantButter=infile.read()\t#reads the file contents into a string variable\n",
    "doYouWantButter\t\t\t#this should give you he iLikeButter string value\n",
    "type(doYouWantButter)\t\t# this should give you “str”\n",
    "type(_)\t\t\t\t# should have the same result as above, right?"
   ]
  },
  {
   "cell_type": "raw",
   "metadata": {},
   "source": [
    "When used as above, what does the underscore, “_”, represent?\n",
    "\n",
    "Next, let's read a text file with more than one line.  The text file louielouie.txt has been provided to you. Pop it into the default directory for your session, the directory you identified before.  Then, open it for reading:\n"
   ]
  },
  {
   "cell_type": "code",
   "execution_count": 35,
   "metadata": {},
   "outputs": [],
   "source": [
    "kingsMenLouie=open('louielouie.txt','r')\t\t#'r' since this is a text file."
   ]
  },
  {
   "cell_type": "code",
   "execution_count": 36,
   "metadata": {},
   "outputs": [],
   "source": [
    "louielouie=kingsMenLouie.read() \t# take a look at louielouie by typing its name"
   ]
  },
  {
   "cell_type": "raw",
   "metadata": {},
   "source": [
    "And, then you could split the lines in louielouie into a list of lines as strings:"
   ]
  },
  {
   "cell_type": "code",
   "execution_count": 37,
   "metadata": {},
   "outputs": [],
   "source": [
    "louielist=louielouie.split()\t\t# lists are your Python Friend. (One of them, at least)"
   ]
  },
  {
   "cell_type": "raw",
   "metadata": {},
   "source": [
    "You could also read this file line by line with readline().  For example, to get the file contents into louie a string variable (and assuming that the file has been closed and opened again after the foregoing):"
   ]
  },
  {
   "cell_type": "code",
   "execution_count": 38,
   "metadata": {},
   "outputs": [],
   "source": [
    "louie=\"\"\t# string var where we're going to put the lines from the file"
   ]
  },
  {
   "cell_type": "code",
   "execution_count": 39,
   "metadata": {},
   "outputs": [],
   "source": [
    "while True:\n",
    "    line=kingsMenLouie.readline()\n",
    "    if not line:\n",
    "        break\n",
    "    louie+=line\n"
   ]
  },
  {
   "cell_type": "raw",
   "metadata": {},
   "source": [
    "Give the above code a try to see what you get.  Are louie and louielouie different?  Try the command louie==louielouie.  \n",
    "\n",
    "Python usually does a good job closing files that have been opened, but it's good practice to do so explicitly whenever possible.  This is expecially true when you are writing data out to a  file, as explicitly closing a file written to forces any remaining write operation to finish.  Did you close all the files you opened, above?\n",
    "\n",
    "A simple way to close a file you've written to is as follows.  Suppose you want to write the character string iLikeButter to a file called greaseitup.txt in your current directory.  If you do:\n"
   ]
  },
  {
   "cell_type": "code",
   "execution_count": 40,
   "metadata": {},
   "outputs": [],
   "source": [
    "with open('greaseitup.txt','wt') as butterOut: \n",
    "    butterOut.write(iLikeButter)\n"
   ]
  },
  {
   "cell_type": "raw",
   "metadata": {},
   "source": [
    "the file will be closed automatically for you when your write operation is completed.  Note the 'wt' in the open statement.  't' is for text, but it's optional.  if you include a 'b' instead, you'll have a binary file instead of a text file.\n",
    "\n",
    "The procedures for reading and writing binary files using open, .read, etc. are for the most part the same as for text files, and so we're not going to spend time here on binary file input and output.  We're shortly going to move on to reading and writing csv files, but before that let's take a look at the classic method for “serializing” (storing with permanency) python objects called pickling.  \n"
   ]
  },
  {
   "cell_type": "raw",
   "metadata": {},
   "source": [
    "A pickle file includes one or more Python objects that can be read back into Python that has a Python-specific, environment independent format.  Two pickling packages in Python 2.7 are pickle and cPickle.  cPickle is the faster of the two, and is the default algorithm in Python 3.  So let's tinker with it here.  First, import cPickle:"
   ]
  },
  {
   "cell_type": "code",
   "execution_count": 41,
   "metadata": {},
   "outputs": [],
   "source": [
    "import pickle"
   ]
  },
  {
   "cell_type": "raw",
   "metadata": {},
   "source": [
    "Now let's pickle our louielist from above in a file in the current working directory."
   ]
  },
  {
   "cell_type": "code",
   "execution_count": 42,
   "metadata": {},
   "outputs": [],
   "source": [
    "pickle.dump(louielist,open('louielist.p','wb'))"
   ]
  },
  {
   "cell_type": "raw",
   "metadata": {},
   "source": [
    "The above writes a binary pickle file.  You can read the file back into Python like:"
   ]
  },
  {
   "cell_type": "code",
   "execution_count": 43,
   "metadata": {},
   "outputs": [],
   "source": [
    "louielsBack=pickle.load(open('louielist.p','rb'))"
   ]
  },
  {
   "cell_type": "raw",
   "metadata": {},
   "source": [
    "Did you get louielist back unchanged?  Try louielist == louielsBack from the command prompt.\n",
    "\n",
    "We're going to move ahead to consider csv files, but to do so we're going to make use of the pandas package.  So let's import pandas first, and then look at a simple example of a very useful panda object, the DataFrame.\n"
   ]
  },
  {
   "cell_type": "code",
   "execution_count": 44,
   "metadata": {},
   "outputs": [],
   "source": [
    "import pandas as pd\t# panda's nickname is pd\n",
    "\n",
    "import numpy as np\t# numpy as np\n",
    "\n",
    "from pandas import DataFrame, Series\t    # for convenience\n"
   ]
  },
  {
   "cell_type": "raw",
   "metadata": {},
   "source": [
    "My guess is that you have used the numpy package before in your work or in a previous course.   DataFrame and Series are very handy pandas data structures that can do yeoman work for you in your data management efforts.\n",
    "\n",
    "By way of introduction, let's first read a little pickled pandas DataFrame.  \n"
   ]
  },
  {
   "cell_type": "raw",
   "metadata": {},
   "source": [
    "A pandas DataFrame is a table-like data structure with columns that can be of different data types, and that has both row and column indices. \n",
    "\n",
    "A Series is like one column of a DataFrame. It's a kind of vector that has an associated index.  A DataFrame can be thought of as a set of Series in the columns that share a single index, the row index.\n"
   ]
  },
  {
   "cell_type": "raw",
   "metadata": {},
   "source": [
    "\n",
    "DataFrames and Series have many useful attributes and features, some of which we'll explore in upcoming exercises.  But now let's try reading a less trivial csv file into a DataFrame.  The file is xyzcust10.csv, and it should be available to you on Canvas.  Take a look at it with your favorite text editor.  Then, put it in a place you can find it from Canvas, and input it into a DataFrame:\n"
   ]
  },
  {
   "cell_type": "code",
   "execution_count": 45,
   "metadata": {},
   "outputs": [],
   "source": [
    "xyzcust10=pd.read_csv('xyzcust10.csv')"
   ]
  },
  {
   "cell_type": "raw",
   "metadata": {},
   "source": [
    "The file has 10 variables in it.  The rows, or records, are XYZ customers.  How many records are in xyzcust10?\n",
    "\n",
    "What types of variables are in the columns of xyzcust10? To find out:\n"
   ]
  },
  {
   "cell_type": "code",
   "execution_count": 46,
   "metadata": {},
   "outputs": [
    {
     "data": {
      "text/plain": [
       "ACCTNO                    object\n",
       "ZIP                        int64\n",
       "ZIP4                       int64\n",
       "LTD_SALES                float64\n",
       "LTD_TRANSACTIONS           int64\n",
       "YTD_SALES_2009           float64\n",
       "YTD_TRANSACTIONS_2009      int64\n",
       "CHANNEL_ACQUISITION       object\n",
       "BUYER_STATUS              object\n",
       "ZIP9_Supercode             int64\n",
       "ZIP9_SUPERCODE             int64\n",
       "dtype: object"
      ]
     },
     "execution_count": 46,
     "metadata": {},
     "output_type": "execute_result"
    }
   ],
   "source": [
    "xyzcust10.dtypes"
   ]
  },
  {
   "cell_type": "raw",
   "metadata": {},
   "source": [
    "Look at the first and last rows in xyzcust10:"
   ]
  },
  {
   "cell_type": "code",
   "execution_count": 47,
   "metadata": {},
   "outputs": [
    {
     "data": {
      "text/html": [
       "<div>\n",
       "<style>\n",
       "    .dataframe thead tr:only-child th {\n",
       "        text-align: right;\n",
       "    }\n",
       "\n",
       "    .dataframe thead th {\n",
       "        text-align: left;\n",
       "    }\n",
       "\n",
       "    .dataframe tbody tr th {\n",
       "        vertical-align: top;\n",
       "    }\n",
       "</style>\n",
       "<table border=\"1\" class=\"dataframe\">\n",
       "  <thead>\n",
       "    <tr style=\"text-align: right;\">\n",
       "      <th></th>\n",
       "      <th>ACCTNO</th>\n",
       "      <th>ZIP</th>\n",
       "      <th>ZIP4</th>\n",
       "      <th>LTD_SALES</th>\n",
       "      <th>LTD_TRANSACTIONS</th>\n",
       "      <th>YTD_SALES_2009</th>\n",
       "      <th>YTD_TRANSACTIONS_2009</th>\n",
       "      <th>CHANNEL_ACQUISITION</th>\n",
       "      <th>BUYER_STATUS</th>\n",
       "      <th>ZIP9_Supercode</th>\n",
       "      <th>ZIP9_SUPERCODE</th>\n",
       "    </tr>\n",
       "  </thead>\n",
       "  <tbody>\n",
       "    <tr>\n",
       "      <th>0</th>\n",
       "      <td>WDQQLLDQL</td>\n",
       "      <td>60084</td>\n",
       "      <td>5016</td>\n",
       "      <td>90.0</td>\n",
       "      <td>1</td>\n",
       "      <td>0.0</td>\n",
       "      <td>0</td>\n",
       "      <td>IB</td>\n",
       "      <td>INACTIVE</td>\n",
       "      <td>600845016</td>\n",
       "      <td>600845016</td>\n",
       "    </tr>\n",
       "    <tr>\n",
       "      <th>1</th>\n",
       "      <td>WQWAYHYLA</td>\n",
       "      <td>60091</td>\n",
       "      <td>1750</td>\n",
       "      <td>4227.0</td>\n",
       "      <td>9</td>\n",
       "      <td>1263.0</td>\n",
       "      <td>3</td>\n",
       "      <td>RT</td>\n",
       "      <td>ACTIVE</td>\n",
       "      <td>600911750</td>\n",
       "      <td>600911750</td>\n",
       "    </tr>\n",
       "    <tr>\n",
       "      <th>2</th>\n",
       "      <td>GSHAPLHAW</td>\n",
       "      <td>60067</td>\n",
       "      <td>900</td>\n",
       "      <td>420.0</td>\n",
       "      <td>3</td>\n",
       "      <td>129.0</td>\n",
       "      <td>1</td>\n",
       "      <td>RT</td>\n",
       "      <td>ACTIVE</td>\n",
       "      <td>600670900</td>\n",
       "      <td>600670900</td>\n",
       "    </tr>\n",
       "    <tr>\n",
       "      <th>3</th>\n",
       "      <td>PGGYDYWAD</td>\n",
       "      <td>60068</td>\n",
       "      <td>3838</td>\n",
       "      <td>6552.0</td>\n",
       "      <td>6</td>\n",
       "      <td>0.0</td>\n",
       "      <td>0</td>\n",
       "      <td>RT</td>\n",
       "      <td>INACTIVE</td>\n",
       "      <td>600683838</td>\n",
       "      <td>600683838</td>\n",
       "    </tr>\n",
       "    <tr>\n",
       "      <th>4</th>\n",
       "      <td>LWPSGPLLS</td>\n",
       "      <td>60090</td>\n",
       "      <td>3932</td>\n",
       "      <td>189.0</td>\n",
       "      <td>3</td>\n",
       "      <td>72.0</td>\n",
       "      <td>1</td>\n",
       "      <td>RT</td>\n",
       "      <td>ACTIVE</td>\n",
       "      <td>600903932</td>\n",
       "      <td>600903932</td>\n",
       "    </tr>\n",
       "  </tbody>\n",
       "</table>\n",
       "</div>"
      ],
      "text/plain": [
       "      ACCTNO    ZIP  ZIP4  LTD_SALES  LTD_TRANSACTIONS  YTD_SALES_2009  \\\n",
       "0  WDQQLLDQL  60084  5016       90.0                 1             0.0   \n",
       "1  WQWAYHYLA  60091  1750     4227.0                 9          1263.0   \n",
       "2  GSHAPLHAW  60067   900      420.0                 3           129.0   \n",
       "3  PGGYDYWAD  60068  3838     6552.0                 6             0.0   \n",
       "4  LWPSGPLLS  60090  3932      189.0                 3            72.0   \n",
       "\n",
       "   YTD_TRANSACTIONS_2009 CHANNEL_ACQUISITION BUYER_STATUS  ZIP9_Supercode  \\\n",
       "0                      0                  IB     INACTIVE       600845016   \n",
       "1                      3                  RT       ACTIVE       600911750   \n",
       "2                      1                  RT       ACTIVE       600670900   \n",
       "3                      0                  RT     INACTIVE       600683838   \n",
       "4                      1                  RT       ACTIVE       600903932   \n",
       "\n",
       "   ZIP9_SUPERCODE  \n",
       "0       600845016  \n",
       "1       600911750  \n",
       "2       600670900  \n",
       "3       600683838  \n",
       "4       600903932  "
      ]
     },
     "execution_count": 47,
     "metadata": {},
     "output_type": "execute_result"
    }
   ],
   "source": [
    "xyzcust10.head()"
   ]
  },
  {
   "cell_type": "code",
   "execution_count": 48,
   "metadata": {},
   "outputs": [
    {
     "data": {
      "text/html": [
       "<div>\n",
       "<style>\n",
       "    .dataframe thead tr:only-child th {\n",
       "        text-align: right;\n",
       "    }\n",
       "\n",
       "    .dataframe thead th {\n",
       "        text-align: left;\n",
       "    }\n",
       "\n",
       "    .dataframe tbody tr th {\n",
       "        vertical-align: top;\n",
       "    }\n",
       "</style>\n",
       "<table border=\"1\" class=\"dataframe\">\n",
       "  <thead>\n",
       "    <tr style=\"text-align: right;\">\n",
       "      <th></th>\n",
       "      <th>ACCTNO</th>\n",
       "      <th>ZIP</th>\n",
       "      <th>ZIP4</th>\n",
       "      <th>LTD_SALES</th>\n",
       "      <th>LTD_TRANSACTIONS</th>\n",
       "      <th>YTD_SALES_2009</th>\n",
       "      <th>YTD_TRANSACTIONS_2009</th>\n",
       "      <th>CHANNEL_ACQUISITION</th>\n",
       "      <th>BUYER_STATUS</th>\n",
       "      <th>ZIP9_Supercode</th>\n",
       "      <th>ZIP9_SUPERCODE</th>\n",
       "    </tr>\n",
       "  </thead>\n",
       "  <tbody>\n",
       "    <tr>\n",
       "      <th>30466</th>\n",
       "      <td>SYDQYLSWH</td>\n",
       "      <td>60098</td>\n",
       "      <td>3951</td>\n",
       "      <td>2736.0</td>\n",
       "      <td>9</td>\n",
       "      <td>96.0</td>\n",
       "      <td>1</td>\n",
       "      <td>RT</td>\n",
       "      <td>ACTIVE</td>\n",
       "      <td>600983951</td>\n",
       "      <td>600983951</td>\n",
       "    </tr>\n",
       "    <tr>\n",
       "      <th>30467</th>\n",
       "      <td>SAPDQHQLP</td>\n",
       "      <td>60098</td>\n",
       "      <td>9681</td>\n",
       "      <td>2412.0</td>\n",
       "      <td>8</td>\n",
       "      <td>108.0</td>\n",
       "      <td>1</td>\n",
       "      <td>RT</td>\n",
       "      <td>ACTIVE</td>\n",
       "      <td>600989681</td>\n",
       "      <td>600989681</td>\n",
       "    </tr>\n",
       "    <tr>\n",
       "      <th>30468</th>\n",
       "      <td>SASYAPDSY</td>\n",
       "      <td>60098</td>\n",
       "      <td>0</td>\n",
       "      <td>429.0</td>\n",
       "      <td>1</td>\n",
       "      <td>0.0</td>\n",
       "      <td>0</td>\n",
       "      <td>RT</td>\n",
       "      <td>INACTIVE</td>\n",
       "      <td>600983858</td>\n",
       "      <td>600983858</td>\n",
       "    </tr>\n",
       "    <tr>\n",
       "      <th>30469</th>\n",
       "      <td>PWQPDWHA</td>\n",
       "      <td>60098</td>\n",
       "      <td>7927</td>\n",
       "      <td>651.0</td>\n",
       "      <td>1</td>\n",
       "      <td>0.0</td>\n",
       "      <td>0</td>\n",
       "      <td>RT</td>\n",
       "      <td>INACTIVE</td>\n",
       "      <td>600987927</td>\n",
       "      <td>600987927</td>\n",
       "    </tr>\n",
       "    <tr>\n",
       "      <th>30470</th>\n",
       "      <td>SQQHDYHWH</td>\n",
       "      <td>60098</td>\n",
       "      <td>4160</td>\n",
       "      <td>4527.0</td>\n",
       "      <td>16</td>\n",
       "      <td>672.0</td>\n",
       "      <td>2</td>\n",
       "      <td>RT</td>\n",
       "      <td>ACTIVE</td>\n",
       "      <td>600984160</td>\n",
       "      <td>600984160</td>\n",
       "    </tr>\n",
       "  </tbody>\n",
       "</table>\n",
       "</div>"
      ],
      "text/plain": [
       "          ACCTNO    ZIP  ZIP4  LTD_SALES  LTD_TRANSACTIONS  YTD_SALES_2009  \\\n",
       "30466  SYDQYLSWH  60098  3951     2736.0                 9            96.0   \n",
       "30467  SAPDQHQLP  60098  9681     2412.0                 8           108.0   \n",
       "30468  SASYAPDSY  60098     0      429.0                 1             0.0   \n",
       "30469   PWQPDWHA  60098  7927      651.0                 1             0.0   \n",
       "30470  SQQHDYHWH  60098  4160     4527.0                16           672.0   \n",
       "\n",
       "       YTD_TRANSACTIONS_2009 CHANNEL_ACQUISITION BUYER_STATUS  ZIP9_Supercode  \\\n",
       "30466                      1                  RT       ACTIVE       600983951   \n",
       "30467                      1                  RT       ACTIVE       600989681   \n",
       "30468                      0                  RT     INACTIVE       600983858   \n",
       "30469                      0                  RT     INACTIVE       600987927   \n",
       "30470                      2                  RT       ACTIVE       600984160   \n",
       "\n",
       "       ZIP9_SUPERCODE  \n",
       "30466       600983951  \n",
       "30467       600989681  \n",
       "30468       600983858  \n",
       "30469       600987927  \n",
       "30470       600984160  "
      ]
     },
     "execution_count": 48,
     "metadata": {},
     "output_type": "execute_result"
    }
   ],
   "source": [
    "xyzcust10.tail()"
   ]
  },
  {
   "cell_type": "raw",
   "metadata": {},
   "source": [
    "Note that in this file missing values for ZIP, ZIP4, and the nine digit ZIP are represented with zeros, “0's.”  The ZIPs could really also be coded as strings, rather than as integers, couldn't they?  Also, it looks like there might be two nine digit ZIP code variables.  Are they the same? \n",
    "\n",
    "That is are the values in these two variables the same for every row of data?  How would you locate the rows in xyzcust10 that have a zero for ZIP or for ZIP4?  We'll see in the next session's Python Practice.\n",
    "\n",
    "Last but not least, be sure to pickle your xyzcust10 Data Frame so you can use it in the next Practice.\n",
    "\n"
   ]
  },
  {
   "cell_type": "markdown",
   "metadata": {},
   "source": [
    "# Deliverable :\n",
    "* Update the pd.read_csv('xyzcust10.csv') to use the VactaionHistory.csv file you created in Exercise #1 and run this script"
   ]
  },
  {
   "cell_type": "code",
   "execution_count": 51,
   "metadata": {},
   "outputs": [
    {
     "data": {
      "text/plain": [
       "Chicago    object\n",
       "IL         object\n",
       "5           int64\n",
       "2008        int64\n",
       "dtype: object"
      ]
     },
     "execution_count": 51,
     "metadata": {},
     "output_type": "execute_result"
    }
   ],
   "source": [
    "# Read in my ski vacation history from last week\n",
    "ski_vacation_history = pd.read_csv('VacationHistory.csv')\n",
    "\n",
    "ski_vacation_history.dtypes"
   ]
  },
  {
   "cell_type": "code",
   "execution_count": 52,
   "metadata": {},
   "outputs": [
    {
     "data": {
      "text/html": [
       "<div>\n",
       "<style>\n",
       "    .dataframe thead tr:only-child th {\n",
       "        text-align: right;\n",
       "    }\n",
       "\n",
       "    .dataframe thead th {\n",
       "        text-align: left;\n",
       "    }\n",
       "\n",
       "    .dataframe tbody tr th {\n",
       "        vertical-align: top;\n",
       "    }\n",
       "</style>\n",
       "<table border=\"1\" class=\"dataframe\">\n",
       "  <thead>\n",
       "    <tr style=\"text-align: right;\">\n",
       "      <th></th>\n",
       "      <th>Chicago</th>\n",
       "      <th>IL</th>\n",
       "      <th>5</th>\n",
       "      <th>2008</th>\n",
       "    </tr>\n",
       "  </thead>\n",
       "  <tbody>\n",
       "    <tr>\n",
       "      <th>0</th>\n",
       "      <td>NewYork</td>\n",
       "      <td>NY</td>\n",
       "      <td>8</td>\n",
       "      <td>2014</td>\n",
       "    </tr>\n",
       "    <tr>\n",
       "      <th>1</th>\n",
       "      <td>Detriot</td>\n",
       "      <td>MI</td>\n",
       "      <td>2</td>\n",
       "      <td>2007</td>\n",
       "    </tr>\n",
       "    <tr>\n",
       "      <th>2</th>\n",
       "      <td>SanFransico</td>\n",
       "      <td>CA</td>\n",
       "      <td>7</td>\n",
       "      <td>2003</td>\n",
       "    </tr>\n",
       "    <tr>\n",
       "      <th>3</th>\n",
       "      <td>Boston</td>\n",
       "      <td>MA</td>\n",
       "      <td>4</td>\n",
       "      <td>2010</td>\n",
       "    </tr>\n",
       "  </tbody>\n",
       "</table>\n",
       "</div>"
      ],
      "text/plain": [
       "       Chicago  IL  5  2008\n",
       "0      NewYork  NY  8  2014\n",
       "1      Detriot  MI  2  2007\n",
       "2  SanFransico  CA  7  2003\n",
       "3       Boston  MA  4  2010"
      ]
     },
     "execution_count": 52,
     "metadata": {},
     "output_type": "execute_result"
    }
   ],
   "source": [
    "ski_vacation_history.head()"
   ]
  },
  {
   "cell_type": "code",
   "execution_count": null,
   "metadata": {},
   "outputs": [],
   "source": []
  }
 ],
 "metadata": {
  "kernelspec": {
   "display_name": "Python 3",
   "language": "python",
   "name": "python3"
  },
  "language_info": {
   "codemirror_mode": {
    "name": "ipython",
    "version": 3
   },
   "file_extension": ".py",
   "mimetype": "text/x-python",
   "name": "python",
   "nbconvert_exporter": "python",
   "pygments_lexer": "ipython3",
   "version": "3.5.2"
  }
 },
 "nbformat": 4,
 "nbformat_minor": 1
}
