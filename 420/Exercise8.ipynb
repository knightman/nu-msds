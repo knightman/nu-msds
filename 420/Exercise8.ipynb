{
 "cells": [
  {
   "cell_type": "markdown",
   "metadata": {},
   "source": [
    "#  Week #8  -  Python Practice"
   ]
  },
  {
   "cell_type": "markdown",
   "metadata": {},
   "source": [
    "### Slicing, Dicing, Transforming"
   ]
  },
  {
   "cell_type": "raw",
   "metadata": {},
   "source": [
    "In the last Practice we worked with the XYZ customer data we called xyzcust when it was a pandas DataFrame. We added a couple of new variables to it, the 'heavyCat' variable (a dtype=category variable) and a couple of heavy or regular buyer indicator variables.  You saved it somewhere and somehow at the end.  \n",
    "\n",
    "In an earlier session we examined XYZ customers' purchase tranaction data. They were in a table in the xyz.db SQLite3 database.  Let's get this transaction data back into a Canopy Python session and do a little more work with it.  Read it from xyz.db into a pandas DataFrame called xyztrans.  It should have the following columns:\n"
   ]
  },
  {
   "cell_type": "code",
   "execution_count": 1,
   "metadata": {},
   "outputs": [],
   "source": [
    "import os\n",
    "\n",
    "import pickle\n",
    "\n",
    "import pandas as pd  # panda's nickname is pd\n",
    "\n",
    "import numpy as np  # numpy as np\n",
    "\n",
    "import sqlalchemy\n",
    "\n",
    "from pandas import DataFrame, Series, Categorical     # for convenience\n",
    "from sqlalchemy import create_engine\n",
    "from sqlalchemy import schema\n",
    "from sqlalchemy import inspect \t# helps us look at the tables in xyz.db\n"
   ]
  },
  {
   "cell_type": "code",
   "execution_count": 2,
   "metadata": {},
   "outputs": [],
   "source": [
    "engine=create_engine('sqlite:///xyz.db')\t    # the db is in my current working directory"
   ]
  },
  {
   "cell_type": "code",
   "execution_count": 3,
   "metadata": {},
   "outputs": [],
   "source": [
    "xyztrans=pd.read_sql('xyztrans', engine)"
   ]
  },
  {
   "cell_type": "code",
   "execution_count": 4,
   "metadata": {},
   "outputs": [
    {
     "data": {
      "text/plain": [
       "Index(['index', 'ACCTNO', 'QTY', 'TRANDATE', 'TRAN_CHANNEL', 'PRICE', 'TOTAMT',\n",
       "       'ORDERNO', 'DEPTDESCR'],\n",
       "      dtype='object')"
      ]
     },
     "execution_count": 4,
     "metadata": {},
     "output_type": "execute_result"
    }
   ],
   "source": [
    "xyztrans.columns"
   ]
  },
  {
   "cell_type": "raw",
   "metadata": {},
   "source": [
    "You may recall that the columns in this DataFrame contain variables of different types. (Try the command xyztrans.dtypes)  We created a couple of categorical variables, like heavyCat.\n",
    "\n",
    "The transaction data “TRANDATE” variable was given a dtype of “object” when it was originally read from an input file.  pandas has a number of different methods for working with data are represent dates and times.  We're going to convert TRANDATE to have “timestamp” values.  pandas time series objects have many special methods and attributes that make working with time stamped data easier.  They can also be used to index DataFrames and Series, which can make it easier to align time-stamped data by date and time.\n",
    "\n",
    "One way to convert the string values in TRANDATE into datetime values is to put them into a format that the pandas to_datetime method can understand, and then to apply that method to get a new Series.\n",
    "\n",
    "The data values in TRANDATE are strings in the format day digits, three letter month abbreviation, and four digit year.  These elements are not separated with a character like a slash or a dash.  But the number of characters used for each of these elements is constant, so we can extract them into separate substrings, replace the month abbreviations with month numbers, and then put slap back together the elements we need for to_datetime separated by  a standard character, like a dash.\n",
    "\n",
    "Let's pull what's in TRANDATE into a separate Series to make it easier to work with the data, and then split out the strings that are in it:\n"
   ]
  },
  {
   "cell_type": "code",
   "execution_count": 5,
   "metadata": {},
   "outputs": [
    {
     "data": {
      "text/plain": [
       "0    09JUN2009\n",
       "1    09JUN2009\n",
       "2    28NOV2009\n",
       "3    28NOV2009\n",
       "4    28NOV2009\n",
       "Name: TRANDATE, dtype: object"
      ]
     },
     "execution_count": 5,
     "metadata": {},
     "output_type": "execute_result"
    }
   ],
   "source": [
    "xyztrans.TRANDATE.head()"
   ]
  },
  {
   "cell_type": "code",
   "execution_count": 6,
   "metadata": {},
   "outputs": [],
   "source": [
    "trandate=xyztrans.TRANDATE\t# should be a Series\n",
    "\n",
    "daystr=trandate.str[0:2]\t\t# two digit date numbers slice\n",
    "\n",
    "mostr=trandate.str[2:5]\t\t# the three letter month abbreviations\n",
    "\n",
    "yearstr=trandate.str[5:]\t\t# four digit years\n"
   ]
  },
  {
   "cell_type": "raw",
   "metadata": {},
   "source": [
    "Are there any three letter month abbreviations that aren't in all capitals?  Are there any missing?  (Try using the .value_counts method of mostr to find out.)\n",
    "\n",
    "Now we have to change those month abbreviations into digits.  We can use a dict to do it. Make a dict called “monums” whose key-value pairs are date abbreviation : date digits.  For example, the first key-value pair might be “JAN”:”01”.  Note that the digits should be a string as we're going to combine them with other string elements and then convert the results using pd.to_datetime.\n"
   ]
  },
  {
   "cell_type": "code",
   "execution_count": 7,
   "metadata": {},
   "outputs": [
    {
     "data": {
      "text/plain": [
       "0    JUN\n",
       "1    JUN\n",
       "2    NOV\n",
       "3    NOV\n",
       "4    NOV\n",
       "Name: TRANDATE, dtype: object"
      ]
     },
     "execution_count": 7,
     "metadata": {},
     "output_type": "execute_result"
    }
   ],
   "source": [
    "mostr.head()"
   ]
  },
  {
   "cell_type": "code",
   "execution_count": 8,
   "metadata": {},
   "outputs": [],
   "source": [
    "#create a dictionary for the months\n",
    "monums={'JAN':'1', 'FEB':'2', 'MAR':'3', 'APR':'4', 'MAY':'5', 'JUN':'6', 'JUL':'7', 'AUG':'8', 'SEP':'9', 'OCT':'10', 'NOV':'11','DEC':'12'}\n",
    "#month\n",
    "monos=mostr.map(monums)\t# do a dict lookup for each value of mostr"
   ]
  },
  {
   "cell_type": "code",
   "execution_count": 9,
   "metadata": {},
   "outputs": [
    {
     "data": {
      "text/plain": [
       "0     6\n",
       "1     6\n",
       "2    11\n",
       "3    11\n",
       "4    11\n",
       "Name: TRANDATE, dtype: object"
      ]
     },
     "execution_count": 9,
     "metadata": {},
     "output_type": "execute_result"
    }
   ],
   "source": [
    "monos.head()"
   ]
  },
  {
   "cell_type": "raw",
   "metadata": {},
   "source": [
    "Is your monos a Series of two digit month strings?\n",
    "\n",
    "Let's smoosh our date string bits together separated by dashes:\n"
   ]
  },
  {
   "cell_type": "code",
   "execution_count": 10,
   "metadata": {},
   "outputs": [],
   "source": [
    "transtr=yearstr+'-'+monos+'-'+daystr"
   ]
  },
  {
   "cell_type": "raw",
   "metadata": {},
   "source": [
    "transtr should be a Series.  Now let's convert the string values in transtr into datetime values:"
   ]
  },
  {
   "cell_type": "code",
   "execution_count": 11,
   "metadata": {},
   "outputs": [],
   "source": [
    "trDateTime=pd.to_datetime(transtr)"
   ]
  },
  {
   "cell_type": "code",
   "execution_count": 12,
   "metadata": {},
   "outputs": [
    {
     "data": {
      "text/plain": [
       "pandas.core.series.Series"
      ]
     },
     "execution_count": 12,
     "metadata": {},
     "output_type": "execute_result"
    }
   ],
   "source": [
    "type(trDateTime)"
   ]
  },
  {
   "cell_type": "code",
   "execution_count": 13,
   "metadata": {},
   "outputs": [
    {
     "data": {
      "text/plain": [
       "0   2009-06-09\n",
       "1   2009-06-09\n",
       "2   2009-11-28\n",
       "3   2009-11-28\n",
       "4   2009-11-28\n",
       "Name: TRANDATE, dtype: datetime64[ns]"
      ]
     },
     "execution_count": 13,
     "metadata": {},
     "output_type": "execute_result"
    }
   ],
   "source": [
    "trDateTime.head()"
   ]
  },
  {
   "cell_type": "raw",
   "metadata": {},
   "source": [
    "What is trDateTime's data type?\n",
    "\n",
    "If trDateTime looks ok, you can delete transtr, monos, mostr, yearstr, and daystr.\n",
    "\n",
    "How many years of transaction data are there? Do the transactions look pretty uniformly distributed across dates?\n",
    "\n",
    "Are there any days on which no transactions occurred?  \n",
    "\n",
    "Put the number of transactions on each day into a Series:\n"
   ]
  },
  {
   "cell_type": "code",
   "execution_count": 14,
   "metadata": {},
   "outputs": [],
   "source": [
    "\n",
    "trCounts=trDateTime.value_counts()"
   ]
  },
  {
   "cell_type": "code",
   "execution_count": 15,
   "metadata": {},
   "outputs": [
    {
     "data": {
      "text/plain": [
       "2009-12-19    877\n",
       "2009-12-21    836\n",
       "2009-12-12    782\n",
       "2009-12-23    765\n",
       "2009-12-20    744\n",
       "Name: TRANDATE, dtype: int64"
      ]
     },
     "execution_count": 15,
     "metadata": {},
     "output_type": "execute_result"
    }
   ],
   "source": [
    "trCounts.head()"
   ]
  },
  {
   "cell_type": "raw",
   "metadata": {},
   "source": [
    "trCounts is indexed by datetime values, but if you look you'll note they aren't in chronological order.  We can make a graph of the number of transactions over time using various methods, but let's try doing it with seaborn, a data visualization package.  Install seaborn using the Canopy package manager, and then import seaborn as sns\n"
   ]
  },
  {
   "cell_type": "code",
   "execution_count": 16,
   "metadata": {},
   "outputs": [],
   "source": [
    "import seaborn as sns"
   ]
  },
  {
   "cell_type": "raw",
   "metadata": {},
   "source": [
    "\n",
    "The order of the counts in trDateTime is not chronological, so let's reorder them so that they go from earliest to most recent date."
   ]
  },
  {
   "cell_type": "code",
   "execution_count": 17,
   "metadata": {},
   "outputs": [],
   "source": [
    "newIndex=pd.date_range(trCounts.index.min(),trCounts.index.max())\n",
    "\n",
    "trCountsChrono=trCounts.reindex(index=newIndex)\n"
   ]
  },
  {
   "cell_type": "raw",
   "metadata": {},
   "source": [
    "Does it look like trCountsChrono is correctly chronologically ordered?  (Try looking using .head() and .tail().)"
   ]
  },
  {
   "cell_type": "code",
   "execution_count": 18,
   "metadata": {},
   "outputs": [
    {
     "data": {
      "text/plain": [
       "2009-01-01    176\n",
       "2009-01-02    305\n",
       "2009-01-03    365\n",
       "2009-01-04    231\n",
       "2009-01-05    144\n",
       "Freq: D, Name: TRANDATE, dtype: int64"
      ]
     },
     "execution_count": 18,
     "metadata": {},
     "output_type": "execute_result"
    }
   ],
   "source": [
    "trCountsChrono.head()"
   ]
  },
  {
   "cell_type": "code",
   "execution_count": 19,
   "metadata": {},
   "outputs": [
    {
     "data": {
      "text/plain": [
       "2009-12-27    251\n",
       "2009-12-28    196\n",
       "2009-12-29    158\n",
       "2009-12-30    217\n",
       "2009-12-31    279\n",
       "Freq: D, Name: TRANDATE, dtype: int64"
      ]
     },
     "execution_count": 19,
     "metadata": {},
     "output_type": "execute_result"
    }
   ],
   "source": [
    "trCountsChrono.tail()"
   ]
  },
  {
   "cell_type": "code",
   "execution_count": 20,
   "metadata": {},
   "outputs": [
    {
     "data": {
      "text/plain": [
       "(365,)"
      ]
     },
     "execution_count": 20,
     "metadata": {},
     "output_type": "execute_result"
    }
   ],
   "source": [
    "trCountsChrono.shape"
   ]
  },
  {
   "cell_type": "raw",
   "metadata": {},
   "source": [
    "Now plot a time series plot using seaborn:"
   ]
  },
  {
   "cell_type": "code",
   "execution_count": 21,
   "metadata": {},
   "outputs": [
    {
     "name": "stderr",
     "output_type": "stream",
     "text": [
      "C:\\Users\\Atef\\Anaconda3\\lib\\site-packages\\seaborn\\timeseries.py:183: UserWarning: The tsplot function is deprecated and will be removed or replaced (in a substantially altered version) in a future release.\n",
      "  warnings.warn(msg, UserWarning)\n"
     ]
    },
    {
     "data": {
      "text/plain": [
       "<matplotlib.axes._subplots.AxesSubplot at 0x1a44a100c88>"
      ]
     },
     "execution_count": 21,
     "metadata": {},
     "output_type": "execute_result"
    },
    {
     "data": {
      "image/png": "[encoded data removed]",
      "text/plain": [
       "<matplotlib.figure.Figure at 0x1a44a100588>"
      ]
     },
     "metadata": {},
     "output_type": "display_data"
    }
   ],
   "source": [
    "sns.tsplot(trCountsChrono)"
   ]
  },
  {
   "cell_type": "raw",
   "metadata": {},
   "source": [
    "A Figure box should pop up with your plot.  The x axis is days, and the y axis transaction counts.  Does it look like XYZ has a “heavy” season?  Do you see any cycles  the time period plotted?\n",
    "\n",
    "According to the developer, seaborn is built on matplotlib, and is in the “spirit” of ggplot.  You can find information about it at https://pypi.python.org/pypi/seaborn.\n",
    "\n",
    "You've probably noticed by now that the indexes and columns in DataFrames, and the indexes of Series, can be used to select subsets of data in these two pandas data objects.  These indexes and columns are some of the objects' “metadata.”   You may also know that pandas also has a “panel” object that can store data in three dimensions.\n",
    "\n",
    "Let's spend a little time looking at ways that data can be selected in Series or DataFrames.  trCountsChrono is a Series, and it's also a Time Series.   It's index is a “DateTimeIndex” of date values.  You can get a summary of trCountsChrono's index by looking at its attribute trCountsChrono.index.  Not surprisingly, index objects have their own attributes and methods.  \n",
    "\n",
    "In pandas data objects, subsets of the data can be selected using a variety of  technqiues and methods.  The method “.loc” will select based on index values.  For example, what is the number of transactions in trCountsChrono starting with Cinco de Mayo and up through May 15th?  You could do:\n"
   ]
  },
  {
   "cell_type": "code",
   "execution_count": 22,
   "metadata": {},
   "outputs": [
    {
     "data": {
      "text/plain": [
       "2009-05-05    146\n",
       "2009-05-06    173\n",
       "2009-05-07    136\n",
       "2009-05-08    183\n",
       "2009-05-09    398\n",
       "2009-05-10    139\n",
       "2009-05-11    109\n",
       "2009-05-12    112\n",
       "2009-05-13     93\n",
       "2009-05-14     76\n",
       "2009-05-15    133\n",
       "Freq: D, Name: TRANDATE, dtype: int64"
      ]
     },
     "execution_count": 22,
     "metadata": {},
     "output_type": "execute_result"
    }
   ],
   "source": [
    "trCountsChrono.loc['2009-05-05' : '2009-05-15'] \t# an index labels slice"
   ]
  },
  {
   "cell_type": "code",
   "execution_count": 23,
   "metadata": {},
   "outputs": [
    {
     "data": {
      "text/plain": [
       "2009-05-01    136\n",
       "2009-05-02    186\n",
       "2009-05-03    136\n",
       "Freq: D, Name: TRANDATE, dtype: int64"
      ]
     },
     "execution_count": 23,
     "metadata": {},
     "output_type": "execute_result"
    }
   ],
   "source": [
    "trCountsChrono.loc['2009-05-01' : '2009-05-03'] \t# an index labels slice"
   ]
  },
  {
   "cell_type": "raw",
   "metadata": {},
   "source": [
    "Or if you knew where in trCountsChrono these values are (how could you find where they are?), you could do:"
   ]
  },
  {
   "cell_type": "code",
   "execution_count": 24,
   "metadata": {},
   "outputs": [
    {
     "data": {
      "text/plain": [
       "2009-05-05    146\n",
       "2009-05-06    173\n",
       "2009-05-07    136\n",
       "2009-05-08    183\n",
       "2009-05-09    398\n",
       "2009-05-10    139\n",
       "2009-05-11    109\n",
       "2009-05-12    112\n",
       "2009-05-13     93\n",
       "2009-05-14     76\n",
       "2009-05-15    133\n",
       "Freq: D, Name: TRANDATE, dtype: int64"
      ]
     },
     "execution_count": 24,
     "metadata": {},
     "output_type": "execute_result"
    }
   ],
   "source": [
    "trCountsChrono.iloc[124:135]\t\t#  locational slice using .ilocs"
   ]
  },
  {
   "cell_type": "raw",
   "metadata": {},
   "source": [
    "Note that the labels slicing is inclusive of start ('2009-05-05') and end ('2009.05-15'), while the locational slice works like in Python and numpy.  There's a mixed type selection method .ix that can work with both label and position values.  The .isin method will return a boolean (True/False) vector when applied to a Series.\n",
    "\n",
    "You can select data based on using methods of the index, too.  Suppose you wanted to select days in June that had at least 100 sales transactions:\n"
   ]
  },
  {
   "cell_type": "code",
   "execution_count": 25,
   "metadata": {},
   "outputs": [
    {
     "data": {
      "text/plain": [
       "2009-06-02    130\n",
       "2009-06-03    127\n",
       "2009-06-04    101\n",
       "2009-06-05    111\n",
       "2009-06-06    246\n",
       "2009-06-07    188\n",
       "2009-06-09    196\n",
       "2009-06-10    167\n",
       "2009-06-11    168\n",
       "2009-06-12    154\n",
       "2009-06-16    173\n",
       "2009-06-17    232\n",
       "2009-06-18    250\n",
       "2009-06-19    241\n",
       "2009-06-20    318\n",
       "2009-06-21    122\n",
       "2009-06-22    100\n",
       "2009-06-23    107\n",
       "2009-06-25    111\n",
       "2009-06-26    181\n",
       "2009-06-27    227\n",
       "2009-06-28    120\n",
       "2009-06-29    137\n",
       "2009-06-30    110\n",
       "Name: TRANDATE, dtype: int64"
      ]
     },
     "execution_count": 25,
     "metadata": {},
     "output_type": "execute_result"
    }
   ],
   "source": [
    "trCountsChrono[(trCountsChrono.index.month==6) & (trCountsChrono>=100)]"
   ]
  },
  {
   "cell_type": "raw",
   "metadata": {},
   "source": [
    "The above statement selects elements in trCountsChono that fall in the 6th calendar month of the year, and that have 100 or more purchase transactions.  You've seen logical criteria used to select observations in previous Practices.  "
   ]
  },
  {
   "cell_type": "raw",
   "metadata": {},
   "source": [
    "To explore selecting data a bit more, let's go back to working with the DataFrame we called xyzcust.  This is the dataframe that has the following columns and shape:"
   ]
  },
  {
   "cell_type": "code",
   "execution_count": 26,
   "metadata": {},
   "outputs": [
    {
     "data": {
      "text/plain": [
       "Index(['index', 'ACCTNO', 'ZIP', 'ZIP4', 'LTD_SALES', 'LTD_TRANSACTIONS',\n",
       "       'YTD_SALES_2009', 'YTD_TRANSACTIONS_2009', 'CHANNEL_ACQUISITION',\n",
       "       'BUYER_STATUS', 'ZIP9_SUPERCODE'],\n",
       "      dtype='object')"
      ]
     },
     "execution_count": 26,
     "metadata": {},
     "output_type": "execute_result"
    }
   ],
   "source": [
    "xyzcust=pd.read_sql_table('xyzcust',engine)\n",
    "\n",
    "xyzcust.columns"
   ]
  },
  {
   "cell_type": "code",
   "execution_count": 27,
   "metadata": {},
   "outputs": [
    {
     "data": {
      "text/plain": [
       "(30179, 11)"
      ]
     },
     "execution_count": 27,
     "metadata": {},
     "output_type": "execute_result"
    }
   ],
   "source": [
    "xyzcust.shape"
   ]
  },
  {
   "cell_type": "raw",
   "metadata": {},
   "source": [
    "You saved the data in this DataFrame, in your SQLite3 database xyz.db, in a pickle file, or perhaps in some other way.\n",
    "\n",
    "If you haven't changed the index of xyzcust, the index is just a sequence of integers from 0 to 30178.\n",
    "\n",
    "Suppose we wanted to select customers in xyzcust that are heavy buyers and who came to be customers through XYZ's retail channel, RT, or the Internet, IB.  One way to do this would be to create a “mask” of values in particular columns that rows in xyzcust must match, and then to use this mask to filter rows in XYZ: \n"
   ]
  },
  {
   "cell_type": "code",
   "execution_count": 28,
   "metadata": {},
   "outputs": [],
   "source": [
    "matchVals={'heavyCat':['heavy'],'CHANNEL_ACQUISITION':['RT','IB']}  "
   ]
  },
  {
   "cell_type": "raw",
   "metadata": {},
   "source": [
    "What's on the right hand side, above, is a dict with lists as values."
   ]
  },
  {
   "cell_type": "code",
   "execution_count": 29,
   "metadata": {},
   "outputs": [],
   "source": [
    "xyzcust.matches=xyzcust.isin(matchVals).all(1)   # .isin works for DataFrames\n",
    "xyzHeavyRTIB=xyzcust[xyzcust.matches]\t# Just heavies from RT or IB\n"
   ]
  },
  {
   "cell_type": "raw",
   "metadata": {},
   "source": [
    "The .all(1) part above means that all matches to values in the dict, heavyCat == 'heavy', and CHANNEL_ACQUISTION==RT or IB, must occur for a row to be incuded in xyzHeavyRTIB, the resulting DataFrame.  How many rows are there in xyzHeavyRTIB?\n",
    "\n",
    "If you change the .all(1) to .any(1), you get an inclusive or instead of an and.  How many rows are there in the resulting DataFrame if you use .any(1)?\n",
    "\n",
    "It's probably clear to you now that pandas objects are different from numpy arrays in a couple of ways.  pandas objects have indexes, and DataFrames have columns.  A numpy array contains only one data type, while a DataFrame's columns can vary in their data types.  You've seen DataFrames with columns of different data types in the Practices you've been doing.\n",
    "\n"
   ]
  },
  {
   "cell_type": "raw",
   "metadata": {},
   "source": [
    "We're just about finished with this Session's practice.  To wrap things up, let's write a new object to the SQLite3 DB xyz.db using some of the features of SQLAlchemy that we haven't yet explored.  As you've probably realized, QLAlchemy is a very powerful and also complicated package. \n",
    "\n",
    "First, make a backup copy of xyz.db.  Then, import everything from SQLAlchemy with from sqlalchemy import *.  (You know what this does in Python.)\n",
    "\n",
    "Then, assuming you have xyz.db in your current working directory:\n"
   ]
  },
  {
   "cell_type": "code",
   "execution_count": 30,
   "metadata": {},
   "outputs": [],
   "source": [
    "from sqlalchemy import *\n",
    "\n",
    "engine=create_engine('sqlite:///xyz.db')\t\t# see what type(engine) tells you\n",
    "\n",
    "meta=MetaData()\t\t\t# will hold metadata of xyz.db.  What type?\n",
    "\n",
    "meta.bind=engine\t\t# bind the metadata of xyz.db\n"
   ]
  },
  {
   "cell_type": "raw",
   "metadata": {},
   "source": [
    "Now you can do things like instantiating tables in xyz.db as Table objects in Python.  For example, assuming that xyz.db has a table named xyzcustnew:"
   ]
  },
  {
   "cell_type": "code",
   "execution_count": 31,
   "metadata": {},
   "outputs": [],
   "source": [
    "xyzcustTable=Table('xyzcustnew',meta)"
   ]
  },
  {
   "cell_type": "raw",
   "metadata": {},
   "source": [
    "xyzcustTable is a SQLAlchemy Table object.  Try xyzcustTable.<tab>\n",
    "\n",
    "You can make another Table object:\n"
   ]
  },
  {
   "cell_type": "code",
   "execution_count": 32,
   "metadata": {},
   "outputs": [],
   "source": [
    "xyztransTable=Table('xyztransnew', meta)"
   ]
  },
  {
   "cell_type": "raw",
   "metadata": {},
   "source": [
    "meta now holds some metadata about your Table objects:"
   ]
  },
  {
   "cell_type": "code",
   "execution_count": 33,
   "metadata": {},
   "outputs": [
    {
     "data": {
      "text/plain": [
       "immutabledict({'xyzcustnew': Table('xyzcustnew', MetaData(bind=Engine(sqlite:///xyz.db)), schema=None), 'xyztransnew': Table('xyztransnew', MetaData(bind=Engine(sqlite:///xyz.db)), schema=None)})"
      ]
     },
     "execution_count": 33,
     "metadata": {},
     "output_type": "execute_result"
    }
   ],
   "source": [
    "meta.tables"
   ]
  },
  {
   "cell_type": "raw",
   "metadata": {},
   "source": [
    "should return a dict of table metadata.  meta.sorted_tables will return a list of table metadata.\n",
    "\n",
    "You can create or drop a table in xyz.db using Table .create and .drop methods, respectively.  Here's an example.  \n",
    "\n",
    "First, let's create a new Table object:\n"
   ]
  },
  {
   "cell_type": "code",
   "execution_count": 34,
   "metadata": {},
   "outputs": [],
   "source": [
    "simpleTab=Table('simpleTab',meta,Column('data',Float))"
   ]
  },
  {
   "cell_type": "raw",
   "metadata": {},
   "source": [
    "This Table simpleTab has a single column called “data” whose data type is Float.  Now let's insert a couple of data points into simpleTab's data column:"
   ]
  },
  {
   "cell_type": "code",
   "execution_count": 35,
   "metadata": {},
   "outputs": [],
   "source": [
    "simpleTab.create(bind=engine)"
   ]
  },
  {
   "cell_type": "code",
   "execution_count": 36,
   "metadata": {},
   "outputs": [
    {
     "data": {
      "text/plain": [
       "immutabledict({'xyzcustnew': Table('xyzcustnew', MetaData(bind=Engine(sqlite:///xyz.db)), schema=None), 'xyztransnew': Table('xyztransnew', MetaData(bind=Engine(sqlite:///xyz.db)), schema=None), 'simpleTab': Table('simpleTab', MetaData(bind=Engine(sqlite:///xyz.db)), Column('data', Float(), table=<simpleTab>), schema=None)})"
      ]
     },
     "execution_count": 36,
     "metadata": {},
     "output_type": "execute_result"
    }
   ],
   "source": [
    "meta.tables"
   ]
  },
  {
   "cell_type": "code",
   "execution_count": 37,
   "metadata": {},
   "outputs": [],
   "source": [
    "indata=simpleTab.insert()\n"
   ]
  },
  {
   "cell_type": "code",
   "execution_count": 38,
   "metadata": {},
   "outputs": [],
   "source": [
    "rttrans=pd.read_sql_query(\"SELECT * FROM simpleTab\", engine)\n"
   ]
  },
  {
   "cell_type": "code",
   "execution_count": 39,
   "metadata": {},
   "outputs": [
    {
     "data": {
      "text/plain": [
       "<sqlalchemy.engine.result.ResultProxy at 0x1a44ca219e8>"
      ]
     },
     "execution_count": 39,
     "metadata": {},
     "output_type": "execute_result"
    }
   ],
   "source": [
    "indata.execute({'data': 10}, {'data' : 20}, {'data' : 30})"
   ]
  },
  {
   "cell_type": "raw",
   "metadata": {},
   "source": [
    "That's it.  no SQL syntax needed.\n",
    "\n",
    "Did the data values actually get written into the data column in simpleTab?\n"
   ]
  },
  {
   "cell_type": "code",
   "execution_count": 40,
   "metadata": {},
   "outputs": [],
   "source": [
    "outdata=simpleTab.select()"
   ]
  },
  {
   "cell_type": "code",
   "execution_count": 41,
   "metadata": {},
   "outputs": [],
   "source": [
    "rout=outdata.execute()"
   ]
  },
  {
   "cell_type": "code",
   "execution_count": 42,
   "metadata": {},
   "outputs": [
    {
     "data": {
      "text/plain": [
       "[(10.0,), (20.0,), (30.0,)]"
      ]
     },
     "execution_count": 42,
     "metadata": {},
     "output_type": "execute_result"
    }
   ],
   "source": [
    "rout.fetchall()"
   ]
  },
  {
   "cell_type": "raw",
   "metadata": {},
   "source": [
    "Should give you something like:\n",
    "\n",
    "Out [36]:  [(10.0,), (20.0,), (30.0,)]\n",
    "\n",
    "We don't need to keep this simpleTab table in xyz.db, so let's drop it:\n"
   ]
  },
  {
   "cell_type": "code",
   "execution_count": 43,
   "metadata": {},
   "outputs": [
    {
     "data": {
      "text/plain": [
       "['simpleTab', 'xyzcust', 'xyztrans']"
      ]
     },
     "execution_count": 43,
     "metadata": {},
     "output_type": "execute_result"
    }
   ],
   "source": [
    "insp=inspect(engine)\n",
    "insp.get_table_names()"
   ]
  },
  {
   "cell_type": "code",
   "execution_count": 44,
   "metadata": {},
   "outputs": [],
   "source": [
    "simpleTab.drop(bind=engine)"
   ]
  },
  {
   "cell_type": "raw",
   "metadata": {},
   "source": [
    "Is it gone?  try insp=inspect(engine), and then insp.get_table_names.\n",
    "\n",
    "Be sure you save the new data objects you created for the next, and last, 420 Python Practice.\n"
   ]
  },
  {
   "cell_type": "code",
   "execution_count": 45,
   "metadata": {},
   "outputs": [
    {
     "data": {
      "text/plain": [
       "['xyzcust', 'xyztrans']"
      ]
     },
     "execution_count": 45,
     "metadata": {},
     "output_type": "execute_result"
    }
   ],
   "source": [
    "insp=inspect(engine)\n",
    "insp.get_table_names()"
   ]
  },
  {
   "cell_type": "markdown",
   "metadata": {},
   "source": [
    "# Deliverable #1: Get the list of the sales on the first day of every month "
   ]
  },
  {
   "cell_type": "code",
   "execution_count": null,
   "metadata": {},
   "outputs": [],
   "source": []
  },
  {
   "cell_type": "markdown",
   "metadata": {},
   "source": [
    "# Deliverable #2: Get the list of the sales on the first day of every month where that day of that  month had at least 150 sales transactions."
   ]
  },
  {
   "cell_type": "code",
   "execution_count": null,
   "metadata": {},
   "outputs": [],
   "source": []
  }
 ],
 "metadata": {
  "kernelspec": {
   "display_name": "Python 3",
   "language": "python",
   "name": "python3"
  },
  "language_info": {
   "codemirror_mode": {
    "name": "ipython",
    "version": 3
   },
   "file_extension": ".py",
   "mimetype": "text/x-python",
   "name": "python",
   "nbconvert_exporter": "python",
   "pygments_lexer": "ipython3",
   "version": "3.6.3"
  }
 },
 "nbformat": 4,
 "nbformat_minor": 1
}
